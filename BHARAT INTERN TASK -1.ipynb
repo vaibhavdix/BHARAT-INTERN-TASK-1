{
 "cells": [
  {
   "cell_type": "markdown",
   "id": "cfd1608a",
   "metadata": {},
   "source": [
    "# DATA SCIENCE INTERNSHIP @BHARAT INTERN"
   ]
  },
  {
   "cell_type": "markdown",
   "id": "413f0a40",
   "metadata": {},
   "source": [
    "## AUTHOR : VAIBHAV DIXIT"
   ]
  },
  {
   "cell_type": "markdown",
   "id": "435824d3",
   "metadata": {},
   "source": [
    "## TASK 1 : STOCK PREDICTION"
   ]
  },
  {
   "cell_type": "markdown",
   "id": "08c2bd84",
   "metadata": {},
   "source": [
    "PURPOSE : TO PREDICT THE STOCK PRICE OF A COMPANY USING LSTM."
   ]
  },
  {
   "cell_type": "markdown",
   "id": "02213421",
   "metadata": {},
   "source": [
    "### ABOUT DATASET"
   ]
  },
  {
   "cell_type": "markdown",
   "id": "ac029951",
   "metadata": {},
   "source": [
    "### Google Stock Prediction"
   ]
  },
  {
   "cell_type": "markdown",
   "id": "f3e698df",
   "metadata": {},
   "source": [
    "#### This dataset contains historical data of Google's stock prices and related attributes. It consists of 14 columns and a smaller subset of 1257 rows. Each column represents a specific attribute, and each row contains the corresponding values for that attribute.\n",
    "\n"
   ]
  },
  {
   "cell_type": "markdown",
   "id": "2e1ec708",
   "metadata": {},
   "source": [
    "### The columns in the dataset are as follows:"
   ]
  },
  {
   "cell_type": "markdown",
   "id": "059d0eec",
   "metadata": {},
   "source": [
    "1. Symbol:  The name of the company, which is GOOG in this case.\n",
    "2. Date:  The year and date of the stock data.\n",
    "3. Close:  The closing price of Google's stock on a particular day.\n",
    "4. High:  The highest value reached by Google's stock on the given day.\n",
    "5. Low:  The lowest value reached by Google's stock on the given day.\n",
    "6. Open:  The opening value of Google's stock on the given day.\n",
    "7. Volume:  The trading volume of Google's stock on the given day, i.e., the number of shares traded.\n",
    "8. adjClose:  The adjusted closing price of Google's stock, considering factors such as dividends and stock splits.\n",
    "9. adjHigh:  The adjusted highest value reached by Google's stock on the given day.\n",
    "10. adjLow:  The adjusted lowest value reached by Google's stock on the given day.\n",
    "11. adjOpen:  The adjusted opening value of Google's stock on the given day.\n",
    "12. adjVolume:  The adjusted trading volume of Google's stock on the given day, accounting for factors such as stock splits.\n",
    "13. divCash:  The amount of cash dividend paid out to shareholders on the given day.\n",
    "14. splitFactor:  The split factor, if any, applied to Google's stock on the given day. A split factor of 1 indicates no split.\n"
   ]
  },
  {
   "cell_type": "markdown",
   "id": "ce0e6621",
   "metadata": {},
   "source": [
    "The dataset is available at Kaggle : https://www.kaggle.com/datasets/shreenidhihipparagi/google-stock-prediction"
   ]
  },
  {
   "cell_type": "markdown",
   "id": "a4fab6ae",
   "metadata": {},
   "source": [
    "## STEP 1 : IMPORTING LIBRARIES AND DATA TO BE USED"
   ]
  },
  {
   "cell_type": "code",
   "execution_count": 1,
   "id": "a72df0ad",
   "metadata": {},
   "outputs": [
    {
     "name": "stderr",
     "output_type": "stream",
     "text": [
      "C:\\Users\\Vaibhav\\anaconda3\\lib\\site-packages\\scipy\\__init__.py:146: UserWarning: A NumPy version >=1.16.5 and <1.23.0 is required for this version of SciPy (detected version 1.25.2\n",
      "  warnings.warn(f\"A NumPy version >={np_minversion} and <{np_maxversion}\"\n"
     ]
    }
   ],
   "source": [
    "#importing libraries to be used\n",
    "import numpy as np # for linear algebra\n",
    "import pandas as pd # data preprocessing\n",
    "import matplotlib.pyplot as plt # data visualization library\n",
    "import seaborn as sns # data visualization library\n",
    "%matplotlib inline\n",
    "import warnings\n",
    "warnings.filterwarnings('ignore') # ignore warnings \n",
    "\n",
    "from sklearn.preprocessing import MinMaxScaler # for normalization\n",
    "from keras.models import Sequential\n",
    "from keras.layers import Dense, Dropout, LSTM, Bidirectional"
   ]
  },
  {
   "cell_type": "code",
   "execution_count": 2,
   "id": "bec43d33",
   "metadata": {},
   "outputs": [
    {
     "data": {
      "text/html": [
       "<div>\n",
       "<style scoped>\n",
       "    .dataframe tbody tr th:only-of-type {\n",
       "        vertical-align: middle;\n",
       "    }\n",
       "\n",
       "    .dataframe tbody tr th {\n",
       "        vertical-align: top;\n",
       "    }\n",
       "\n",
       "    .dataframe thead th {\n",
       "        text-align: right;\n",
       "    }\n",
       "</style>\n",
       "<table border=\"1\" class=\"dataframe\">\n",
       "  <thead>\n",
       "    <tr style=\"text-align: right;\">\n",
       "      <th></th>\n",
       "      <th>symbol</th>\n",
       "      <th>date</th>\n",
       "      <th>close</th>\n",
       "      <th>high</th>\n",
       "      <th>low</th>\n",
       "      <th>open</th>\n",
       "      <th>volume</th>\n",
       "      <th>adjClose</th>\n",
       "      <th>adjHigh</th>\n",
       "      <th>adjLow</th>\n",
       "      <th>adjOpen</th>\n",
       "      <th>adjVolume</th>\n",
       "      <th>divCash</th>\n",
       "      <th>splitFactor</th>\n",
       "    </tr>\n",
       "  </thead>\n",
       "  <tbody>\n",
       "    <tr>\n",
       "      <th>0</th>\n",
       "      <td>GOOG</td>\n",
       "      <td>2016-06-14 00:00:00+00:00</td>\n",
       "      <td>718.27</td>\n",
       "      <td>722.47</td>\n",
       "      <td>713.1200</td>\n",
       "      <td>716.48</td>\n",
       "      <td>1306065</td>\n",
       "      <td>718.27</td>\n",
       "      <td>722.47</td>\n",
       "      <td>713.1200</td>\n",
       "      <td>716.48</td>\n",
       "      <td>1306065</td>\n",
       "      <td>0.0</td>\n",
       "      <td>1.0</td>\n",
       "    </tr>\n",
       "    <tr>\n",
       "      <th>1</th>\n",
       "      <td>GOOG</td>\n",
       "      <td>2016-06-15 00:00:00+00:00</td>\n",
       "      <td>718.92</td>\n",
       "      <td>722.98</td>\n",
       "      <td>717.3100</td>\n",
       "      <td>719.00</td>\n",
       "      <td>1214517</td>\n",
       "      <td>718.92</td>\n",
       "      <td>722.98</td>\n",
       "      <td>717.3100</td>\n",
       "      <td>719.00</td>\n",
       "      <td>1214517</td>\n",
       "      <td>0.0</td>\n",
       "      <td>1.0</td>\n",
       "    </tr>\n",
       "    <tr>\n",
       "      <th>2</th>\n",
       "      <td>GOOG</td>\n",
       "      <td>2016-06-16 00:00:00+00:00</td>\n",
       "      <td>710.36</td>\n",
       "      <td>716.65</td>\n",
       "      <td>703.2600</td>\n",
       "      <td>714.91</td>\n",
       "      <td>1982471</td>\n",
       "      <td>710.36</td>\n",
       "      <td>716.65</td>\n",
       "      <td>703.2600</td>\n",
       "      <td>714.91</td>\n",
       "      <td>1982471</td>\n",
       "      <td>0.0</td>\n",
       "      <td>1.0</td>\n",
       "    </tr>\n",
       "    <tr>\n",
       "      <th>3</th>\n",
       "      <td>GOOG</td>\n",
       "      <td>2016-06-17 00:00:00+00:00</td>\n",
       "      <td>691.72</td>\n",
       "      <td>708.82</td>\n",
       "      <td>688.4515</td>\n",
       "      <td>708.65</td>\n",
       "      <td>3402357</td>\n",
       "      <td>691.72</td>\n",
       "      <td>708.82</td>\n",
       "      <td>688.4515</td>\n",
       "      <td>708.65</td>\n",
       "      <td>3402357</td>\n",
       "      <td>0.0</td>\n",
       "      <td>1.0</td>\n",
       "    </tr>\n",
       "    <tr>\n",
       "      <th>4</th>\n",
       "      <td>GOOG</td>\n",
       "      <td>2016-06-20 00:00:00+00:00</td>\n",
       "      <td>693.71</td>\n",
       "      <td>702.48</td>\n",
       "      <td>693.4100</td>\n",
       "      <td>698.77</td>\n",
       "      <td>2082538</td>\n",
       "      <td>693.71</td>\n",
       "      <td>702.48</td>\n",
       "      <td>693.4100</td>\n",
       "      <td>698.77</td>\n",
       "      <td>2082538</td>\n",
       "      <td>0.0</td>\n",
       "      <td>1.0</td>\n",
       "    </tr>\n",
       "    <tr>\n",
       "      <th>5</th>\n",
       "      <td>GOOG</td>\n",
       "      <td>2016-06-21 00:00:00+00:00</td>\n",
       "      <td>695.94</td>\n",
       "      <td>702.77</td>\n",
       "      <td>692.0100</td>\n",
       "      <td>698.40</td>\n",
       "      <td>1465634</td>\n",
       "      <td>695.94</td>\n",
       "      <td>702.77</td>\n",
       "      <td>692.0100</td>\n",
       "      <td>698.40</td>\n",
       "      <td>1465634</td>\n",
       "      <td>0.0</td>\n",
       "      <td>1.0</td>\n",
       "    </tr>\n",
       "    <tr>\n",
       "      <th>6</th>\n",
       "      <td>GOOG</td>\n",
       "      <td>2016-06-22 00:00:00+00:00</td>\n",
       "      <td>697.46</td>\n",
       "      <td>700.86</td>\n",
       "      <td>693.0819</td>\n",
       "      <td>699.06</td>\n",
       "      <td>1184318</td>\n",
       "      <td>697.46</td>\n",
       "      <td>700.86</td>\n",
       "      <td>693.0819</td>\n",
       "      <td>699.06</td>\n",
       "      <td>1184318</td>\n",
       "      <td>0.0</td>\n",
       "      <td>1.0</td>\n",
       "    </tr>\n",
       "    <tr>\n",
       "      <th>7</th>\n",
       "      <td>GOOG</td>\n",
       "      <td>2016-06-23 00:00:00+00:00</td>\n",
       "      <td>701.87</td>\n",
       "      <td>701.95</td>\n",
       "      <td>687.0000</td>\n",
       "      <td>697.45</td>\n",
       "      <td>2171415</td>\n",
       "      <td>701.87</td>\n",
       "      <td>701.95</td>\n",
       "      <td>687.0000</td>\n",
       "      <td>697.45</td>\n",
       "      <td>2171415</td>\n",
       "      <td>0.0</td>\n",
       "      <td>1.0</td>\n",
       "    </tr>\n",
       "    <tr>\n",
       "      <th>8</th>\n",
       "      <td>GOOG</td>\n",
       "      <td>2016-06-24 00:00:00+00:00</td>\n",
       "      <td>675.22</td>\n",
       "      <td>689.40</td>\n",
       "      <td>673.4500</td>\n",
       "      <td>675.17</td>\n",
       "      <td>4449022</td>\n",
       "      <td>675.22</td>\n",
       "      <td>689.40</td>\n",
       "      <td>673.4500</td>\n",
       "      <td>675.17</td>\n",
       "      <td>4449022</td>\n",
       "      <td>0.0</td>\n",
       "      <td>1.0</td>\n",
       "    </tr>\n",
       "    <tr>\n",
       "      <th>9</th>\n",
       "      <td>GOOG</td>\n",
       "      <td>2016-06-27 00:00:00+00:00</td>\n",
       "      <td>668.26</td>\n",
       "      <td>672.30</td>\n",
       "      <td>663.2840</td>\n",
       "      <td>671.00</td>\n",
       "      <td>2641085</td>\n",
       "      <td>668.26</td>\n",
       "      <td>672.30</td>\n",
       "      <td>663.2840</td>\n",
       "      <td>671.00</td>\n",
       "      <td>2641085</td>\n",
       "      <td>0.0</td>\n",
       "      <td>1.0</td>\n",
       "    </tr>\n",
       "  </tbody>\n",
       "</table>\n",
       "</div>"
      ],
      "text/plain": [
       "  symbol                       date   close    high       low    open  \\\n",
       "0   GOOG  2016-06-14 00:00:00+00:00  718.27  722.47  713.1200  716.48   \n",
       "1   GOOG  2016-06-15 00:00:00+00:00  718.92  722.98  717.3100  719.00   \n",
       "2   GOOG  2016-06-16 00:00:00+00:00  710.36  716.65  703.2600  714.91   \n",
       "3   GOOG  2016-06-17 00:00:00+00:00  691.72  708.82  688.4515  708.65   \n",
       "4   GOOG  2016-06-20 00:00:00+00:00  693.71  702.48  693.4100  698.77   \n",
       "5   GOOG  2016-06-21 00:00:00+00:00  695.94  702.77  692.0100  698.40   \n",
       "6   GOOG  2016-06-22 00:00:00+00:00  697.46  700.86  693.0819  699.06   \n",
       "7   GOOG  2016-06-23 00:00:00+00:00  701.87  701.95  687.0000  697.45   \n",
       "8   GOOG  2016-06-24 00:00:00+00:00  675.22  689.40  673.4500  675.17   \n",
       "9   GOOG  2016-06-27 00:00:00+00:00  668.26  672.30  663.2840  671.00   \n",
       "\n",
       "    volume  adjClose  adjHigh    adjLow  adjOpen  adjVolume  divCash  \\\n",
       "0  1306065    718.27   722.47  713.1200   716.48    1306065      0.0   \n",
       "1  1214517    718.92   722.98  717.3100   719.00    1214517      0.0   \n",
       "2  1982471    710.36   716.65  703.2600   714.91    1982471      0.0   \n",
       "3  3402357    691.72   708.82  688.4515   708.65    3402357      0.0   \n",
       "4  2082538    693.71   702.48  693.4100   698.77    2082538      0.0   \n",
       "5  1465634    695.94   702.77  692.0100   698.40    1465634      0.0   \n",
       "6  1184318    697.46   700.86  693.0819   699.06    1184318      0.0   \n",
       "7  2171415    701.87   701.95  687.0000   697.45    2171415      0.0   \n",
       "8  4449022    675.22   689.40  673.4500   675.17    4449022      0.0   \n",
       "9  2641085    668.26   672.30  663.2840   671.00    2641085      0.0   \n",
       "\n",
       "   splitFactor  \n",
       "0          1.0  \n",
       "1          1.0  \n",
       "2          1.0  \n",
       "3          1.0  \n",
       "4          1.0  \n",
       "5          1.0  \n",
       "6          1.0  \n",
       "7          1.0  \n",
       "8          1.0  \n",
       "9          1.0  "
      ]
     },
     "execution_count": 2,
     "metadata": {},
     "output_type": "execute_result"
    }
   ],
   "source": [
    "df = pd.read_csv('Google Stocks.csv') # data_importing\n",
    "df.head(10) # fetching first 10 rows of dataset"
   ]
  },
  {
   "cell_type": "markdown",
   "id": "02536a5d",
   "metadata": {},
   "source": [
    "## STEP 2 : GATHERING INSIGHTS"
   ]
  },
  {
   "cell_type": "code",
   "execution_count": 3,
   "id": "389146cd",
   "metadata": {},
   "outputs": [
    {
     "name": "stdout",
     "output_type": "stream",
     "text": [
      "Shape of data: (1258, 14)\n"
     ]
    }
   ],
   "source": [
    "# shape of data\n",
    "print(\"Shape of data:\",df.shape)"
   ]
  },
  {
   "cell_type": "code",
   "execution_count": 4,
   "id": "0b71fa7c",
   "metadata": {},
   "outputs": [
    {
     "data": {
      "text/html": [
       "<div>\n",
       "<style scoped>\n",
       "    .dataframe tbody tr th:only-of-type {\n",
       "        vertical-align: middle;\n",
       "    }\n",
       "\n",
       "    .dataframe tbody tr th {\n",
       "        vertical-align: top;\n",
       "    }\n",
       "\n",
       "    .dataframe thead th {\n",
       "        text-align: right;\n",
       "    }\n",
       "</style>\n",
       "<table border=\"1\" class=\"dataframe\">\n",
       "  <thead>\n",
       "    <tr style=\"text-align: right;\">\n",
       "      <th></th>\n",
       "      <th>close</th>\n",
       "      <th>high</th>\n",
       "      <th>low</th>\n",
       "      <th>open</th>\n",
       "      <th>volume</th>\n",
       "      <th>adjClose</th>\n",
       "      <th>adjHigh</th>\n",
       "      <th>adjLow</th>\n",
       "      <th>adjOpen</th>\n",
       "      <th>adjVolume</th>\n",
       "      <th>divCash</th>\n",
       "      <th>splitFactor</th>\n",
       "    </tr>\n",
       "  </thead>\n",
       "  <tbody>\n",
       "    <tr>\n",
       "      <th>count</th>\n",
       "      <td>1258.000000</td>\n",
       "      <td>1258.000000</td>\n",
       "      <td>1258.000000</td>\n",
       "      <td>1258.000000</td>\n",
       "      <td>1.258000e+03</td>\n",
       "      <td>1258.000000</td>\n",
       "      <td>1258.000000</td>\n",
       "      <td>1258.000000</td>\n",
       "      <td>1258.000000</td>\n",
       "      <td>1.258000e+03</td>\n",
       "      <td>1258.0</td>\n",
       "      <td>1258.0</td>\n",
       "    </tr>\n",
       "    <tr>\n",
       "      <th>mean</th>\n",
       "      <td>1216.317067</td>\n",
       "      <td>1227.430934</td>\n",
       "      <td>1204.176430</td>\n",
       "      <td>1215.260779</td>\n",
       "      <td>1.601590e+06</td>\n",
       "      <td>1216.317067</td>\n",
       "      <td>1227.430936</td>\n",
       "      <td>1204.176436</td>\n",
       "      <td>1215.260779</td>\n",
       "      <td>1.601590e+06</td>\n",
       "      <td>0.0</td>\n",
       "      <td>1.0</td>\n",
       "    </tr>\n",
       "    <tr>\n",
       "      <th>std</th>\n",
       "      <td>383.333358</td>\n",
       "      <td>387.570872</td>\n",
       "      <td>378.777094</td>\n",
       "      <td>382.446995</td>\n",
       "      <td>6.960172e+05</td>\n",
       "      <td>383.333358</td>\n",
       "      <td>387.570873</td>\n",
       "      <td>378.777099</td>\n",
       "      <td>382.446995</td>\n",
       "      <td>6.960172e+05</td>\n",
       "      <td>0.0</td>\n",
       "      <td>0.0</td>\n",
       "    </tr>\n",
       "    <tr>\n",
       "      <th>min</th>\n",
       "      <td>668.260000</td>\n",
       "      <td>672.300000</td>\n",
       "      <td>663.284000</td>\n",
       "      <td>671.000000</td>\n",
       "      <td>3.467530e+05</td>\n",
       "      <td>668.260000</td>\n",
       "      <td>672.300000</td>\n",
       "      <td>663.284000</td>\n",
       "      <td>671.000000</td>\n",
       "      <td>3.467530e+05</td>\n",
       "      <td>0.0</td>\n",
       "      <td>1.0</td>\n",
       "    </tr>\n",
       "    <tr>\n",
       "      <th>25%</th>\n",
       "      <td>960.802500</td>\n",
       "      <td>968.757500</td>\n",
       "      <td>952.182500</td>\n",
       "      <td>959.005000</td>\n",
       "      <td>1.173522e+06</td>\n",
       "      <td>960.802500</td>\n",
       "      <td>968.757500</td>\n",
       "      <td>952.182500</td>\n",
       "      <td>959.005000</td>\n",
       "      <td>1.173522e+06</td>\n",
       "      <td>0.0</td>\n",
       "      <td>1.0</td>\n",
       "    </tr>\n",
       "    <tr>\n",
       "      <th>50%</th>\n",
       "      <td>1132.460000</td>\n",
       "      <td>1143.935000</td>\n",
       "      <td>1117.915000</td>\n",
       "      <td>1131.150000</td>\n",
       "      <td>1.412588e+06</td>\n",
       "      <td>1132.460000</td>\n",
       "      <td>1143.935000</td>\n",
       "      <td>1117.915000</td>\n",
       "      <td>1131.150000</td>\n",
       "      <td>1.412588e+06</td>\n",
       "      <td>0.0</td>\n",
       "      <td>1.0</td>\n",
       "    </tr>\n",
       "    <tr>\n",
       "      <th>75%</th>\n",
       "      <td>1360.595000</td>\n",
       "      <td>1374.345000</td>\n",
       "      <td>1348.557500</td>\n",
       "      <td>1361.075000</td>\n",
       "      <td>1.812156e+06</td>\n",
       "      <td>1360.595000</td>\n",
       "      <td>1374.345000</td>\n",
       "      <td>1348.557500</td>\n",
       "      <td>1361.075000</td>\n",
       "      <td>1.812156e+06</td>\n",
       "      <td>0.0</td>\n",
       "      <td>1.0</td>\n",
       "    </tr>\n",
       "    <tr>\n",
       "      <th>max</th>\n",
       "      <td>2521.600000</td>\n",
       "      <td>2526.990000</td>\n",
       "      <td>2498.290000</td>\n",
       "      <td>2524.920000</td>\n",
       "      <td>6.207027e+06</td>\n",
       "      <td>2521.600000</td>\n",
       "      <td>2526.990000</td>\n",
       "      <td>2498.290000</td>\n",
       "      <td>2524.920000</td>\n",
       "      <td>6.207027e+06</td>\n",
       "      <td>0.0</td>\n",
       "      <td>1.0</td>\n",
       "    </tr>\n",
       "  </tbody>\n",
       "</table>\n",
       "</div>"
      ],
      "text/plain": [
       "             close         high          low         open        volume  \\\n",
       "count  1258.000000  1258.000000  1258.000000  1258.000000  1.258000e+03   \n",
       "mean   1216.317067  1227.430934  1204.176430  1215.260779  1.601590e+06   \n",
       "std     383.333358   387.570872   378.777094   382.446995  6.960172e+05   \n",
       "min     668.260000   672.300000   663.284000   671.000000  3.467530e+05   \n",
       "25%     960.802500   968.757500   952.182500   959.005000  1.173522e+06   \n",
       "50%    1132.460000  1143.935000  1117.915000  1131.150000  1.412588e+06   \n",
       "75%    1360.595000  1374.345000  1348.557500  1361.075000  1.812156e+06   \n",
       "max    2521.600000  2526.990000  2498.290000  2524.920000  6.207027e+06   \n",
       "\n",
       "          adjClose      adjHigh       adjLow      adjOpen     adjVolume  \\\n",
       "count  1258.000000  1258.000000  1258.000000  1258.000000  1.258000e+03   \n",
       "mean   1216.317067  1227.430936  1204.176436  1215.260779  1.601590e+06   \n",
       "std     383.333358   387.570873   378.777099   382.446995  6.960172e+05   \n",
       "min     668.260000   672.300000   663.284000   671.000000  3.467530e+05   \n",
       "25%     960.802500   968.757500   952.182500   959.005000  1.173522e+06   \n",
       "50%    1132.460000  1143.935000  1117.915000  1131.150000  1.412588e+06   \n",
       "75%    1360.595000  1374.345000  1348.557500  1361.075000  1.812156e+06   \n",
       "max    2521.600000  2526.990000  2498.290000  2524.920000  6.207027e+06   \n",
       "\n",
       "       divCash  splitFactor  \n",
       "count   1258.0       1258.0  \n",
       "mean       0.0          1.0  \n",
       "std        0.0          0.0  \n",
       "min        0.0          1.0  \n",
       "25%        0.0          1.0  \n",
       "50%        0.0          1.0  \n",
       "75%        0.0          1.0  \n",
       "max        0.0          1.0  "
      ]
     },
     "execution_count": 4,
     "metadata": {},
     "output_type": "execute_result"
    }
   ],
   "source": [
    "# statistical description of data\n",
    "df.describe()"
   ]
  },
  {
   "cell_type": "code",
   "execution_count": 5,
   "id": "de82c171",
   "metadata": {},
   "outputs": [
    {
     "name": "stdout",
     "output_type": "stream",
     "text": [
      "<class 'pandas.core.frame.DataFrame'>\n",
      "RangeIndex: 1258 entries, 0 to 1257\n",
      "Data columns (total 14 columns):\n",
      " #   Column       Non-Null Count  Dtype  \n",
      "---  ------       --------------  -----  \n",
      " 0   symbol       1258 non-null   object \n",
      " 1   date         1258 non-null   object \n",
      " 2   close        1258 non-null   float64\n",
      " 3   high         1258 non-null   float64\n",
      " 4   low          1258 non-null   float64\n",
      " 5   open         1258 non-null   float64\n",
      " 6   volume       1258 non-null   int64  \n",
      " 7   adjClose     1258 non-null   float64\n",
      " 8   adjHigh      1258 non-null   float64\n",
      " 9   adjLow       1258 non-null   float64\n",
      " 10  adjOpen      1258 non-null   float64\n",
      " 11  adjVolume    1258 non-null   int64  \n",
      " 12  divCash      1258 non-null   float64\n",
      " 13  splitFactor  1258 non-null   float64\n",
      "dtypes: float64(10), int64(2), object(2)\n",
      "memory usage: 137.7+ KB\n"
     ]
    }
   ],
   "source": [
    "# summary of data\n",
    "df.info()"
   ]
  },
  {
   "cell_type": "code",
   "execution_count": 6,
   "id": "046970d2",
   "metadata": {},
   "outputs": [
    {
     "data": {
      "text/plain": [
       "symbol         0\n",
       "date           0\n",
       "close          0\n",
       "high           0\n",
       "low            0\n",
       "open           0\n",
       "volume         0\n",
       "adjClose       0\n",
       "adjHigh        0\n",
       "adjLow         0\n",
       "adjOpen        0\n",
       "adjVolume      0\n",
       "divCash        0\n",
       "splitFactor    0\n",
       "dtype: int64"
      ]
     },
     "execution_count": 6,
     "metadata": {},
     "output_type": "execute_result"
    }
   ],
   "source": [
    "# checking null values\n",
    "df.isnull().sum()"
   ]
  },
  {
   "cell_type": "markdown",
   "id": "cf002b7a",
   "metadata": {},
   "source": [
    "### There are no null values in the dataset"
   ]
  },
  {
   "cell_type": "code",
   "execution_count": 7,
   "id": "0f1486b7",
   "metadata": {},
   "outputs": [
    {
     "data": {
      "text/html": [
       "<div>\n",
       "<style scoped>\n",
       "    .dataframe tbody tr th:only-of-type {\n",
       "        vertical-align: middle;\n",
       "    }\n",
       "\n",
       "    .dataframe tbody tr th {\n",
       "        vertical-align: top;\n",
       "    }\n",
       "\n",
       "    .dataframe thead th {\n",
       "        text-align: right;\n",
       "    }\n",
       "</style>\n",
       "<table border=\"1\" class=\"dataframe\">\n",
       "  <thead>\n",
       "    <tr style=\"text-align: right;\">\n",
       "      <th></th>\n",
       "      <th>open</th>\n",
       "      <th>close</th>\n",
       "    </tr>\n",
       "    <tr>\n",
       "      <th>date</th>\n",
       "      <th></th>\n",
       "      <th></th>\n",
       "    </tr>\n",
       "  </thead>\n",
       "  <tbody>\n",
       "    <tr>\n",
       "      <th>2016-06-14</th>\n",
       "      <td>716.48</td>\n",
       "      <td>718.27</td>\n",
       "    </tr>\n",
       "    <tr>\n",
       "      <th>2016-06-15</th>\n",
       "      <td>719.00</td>\n",
       "      <td>718.92</td>\n",
       "    </tr>\n",
       "    <tr>\n",
       "      <th>2016-06-16</th>\n",
       "      <td>714.91</td>\n",
       "      <td>710.36</td>\n",
       "    </tr>\n",
       "    <tr>\n",
       "      <th>2016-06-17</th>\n",
       "      <td>708.65</td>\n",
       "      <td>691.72</td>\n",
       "    </tr>\n",
       "    <tr>\n",
       "      <th>2016-06-20</th>\n",
       "      <td>698.77</td>\n",
       "      <td>693.71</td>\n",
       "    </tr>\n",
       "    <tr>\n",
       "      <th>2016-06-21</th>\n",
       "      <td>698.40</td>\n",
       "      <td>695.94</td>\n",
       "    </tr>\n",
       "    <tr>\n",
       "      <th>2016-06-22</th>\n",
       "      <td>699.06</td>\n",
       "      <td>697.46</td>\n",
       "    </tr>\n",
       "    <tr>\n",
       "      <th>2016-06-23</th>\n",
       "      <td>697.45</td>\n",
       "      <td>701.87</td>\n",
       "    </tr>\n",
       "    <tr>\n",
       "      <th>2016-06-24</th>\n",
       "      <td>675.17</td>\n",
       "      <td>675.22</td>\n",
       "    </tr>\n",
       "    <tr>\n",
       "      <th>2016-06-27</th>\n",
       "      <td>671.00</td>\n",
       "      <td>668.26</td>\n",
       "    </tr>\n",
       "  </tbody>\n",
       "</table>\n",
       "</div>"
      ],
      "text/plain": [
       "              open   close\n",
       "date                      \n",
       "2016-06-14  716.48  718.27\n",
       "2016-06-15  719.00  718.92\n",
       "2016-06-16  714.91  710.36\n",
       "2016-06-17  708.65  691.72\n",
       "2016-06-20  698.77  693.71\n",
       "2016-06-21  698.40  695.94\n",
       "2016-06-22  699.06  697.46\n",
       "2016-06-23  697.45  701.87\n",
       "2016-06-24  675.17  675.22\n",
       "2016-06-27  671.00  668.26"
      ]
     },
     "execution_count": 7,
     "metadata": {},
     "output_type": "execute_result"
    }
   ],
   "source": [
    "df = df[['date','open','close']] # Extracting required columns\n",
    "df['date'] = pd.to_datetime(df['date'].apply(lambda x: x.split()[0])) # converting object dtype of date column to datetime dtype\n",
    "df.set_index('date',drop=True,inplace=True) # Setting date column as index\n",
    "df.head(10)"
   ]
  },
  {
   "cell_type": "code",
   "execution_count": 8,
   "id": "2ec6a7e6",
   "metadata": {},
   "outputs": [
    {
     "data": {
      "image/png": "[encoded data removed]",
      "text/plain": [
       "<Figure size 1440x504 with 2 Axes>"
      ]
     },
     "metadata": {
      "needs_background": "light"
     },
     "output_type": "display_data"
    }
   ],
   "source": [
    "# plotting open and closing price on date index\n",
    "fig, ax =plt.subplots(1,2,figsize=(20,7))\n",
    "ax[0].plot(df['open'],label='Open',color='green')\n",
    "ax[0].set_xlabel('Date',size=15)\n",
    "ax[0].set_ylabel('Price',size=15)\n",
    "ax[0].legend()\n",
    "\n",
    "ax[1].plot(df['close'],label='Close',color='red')\n",
    "ax[1].set_xlabel('Date',size=15)\n",
    "ax[1].set_ylabel('Price',size=15)\n",
    "ax[1].legend()\n",
    "\n",
    "fig.show()\n"
   ]
  },
  {
   "cell_type": "markdown",
   "id": "70c0da08",
   "metadata": {},
   "source": [
    "## STEP 3 : DATA PRE-PROCESSING"
   ]
  },
  {
   "cell_type": "code",
   "execution_count": 9,
   "id": "368668c4",
   "metadata": {},
   "outputs": [
    {
     "data": {
      "text/html": [
       "<div>\n",
       "<style scoped>\n",
       "    .dataframe tbody tr th:only-of-type {\n",
       "        vertical-align: middle;\n",
       "    }\n",
       "\n",
       "    .dataframe tbody tr th {\n",
       "        vertical-align: top;\n",
       "    }\n",
       "\n",
       "    .dataframe thead th {\n",
       "        text-align: right;\n",
       "    }\n",
       "</style>\n",
       "<table border=\"1\" class=\"dataframe\">\n",
       "  <thead>\n",
       "    <tr style=\"text-align: right;\">\n",
       "      <th></th>\n",
       "      <th>open</th>\n",
       "      <th>close</th>\n",
       "    </tr>\n",
       "    <tr>\n",
       "      <th>date</th>\n",
       "      <th></th>\n",
       "      <th></th>\n",
       "    </tr>\n",
       "  </thead>\n",
       "  <tbody>\n",
       "    <tr>\n",
       "      <th>2016-06-14</th>\n",
       "      <td>0.024532</td>\n",
       "      <td>0.026984</td>\n",
       "    </tr>\n",
       "    <tr>\n",
       "      <th>2016-06-15</th>\n",
       "      <td>0.025891</td>\n",
       "      <td>0.027334</td>\n",
       "    </tr>\n",
       "    <tr>\n",
       "      <th>2016-06-16</th>\n",
       "      <td>0.023685</td>\n",
       "      <td>0.022716</td>\n",
       "    </tr>\n",
       "    <tr>\n",
       "      <th>2016-06-17</th>\n",
       "      <td>0.020308</td>\n",
       "      <td>0.012658</td>\n",
       "    </tr>\n",
       "    <tr>\n",
       "      <th>2016-06-20</th>\n",
       "      <td>0.014979</td>\n",
       "      <td>0.013732</td>\n",
       "    </tr>\n",
       "    <tr>\n",
       "      <th>2016-06-21</th>\n",
       "      <td>0.014779</td>\n",
       "      <td>0.014935</td>\n",
       "    </tr>\n",
       "    <tr>\n",
       "      <th>2016-06-22</th>\n",
       "      <td>0.015135</td>\n",
       "      <td>0.015755</td>\n",
       "    </tr>\n",
       "    <tr>\n",
       "      <th>2016-06-23</th>\n",
       "      <td>0.014267</td>\n",
       "      <td>0.018135</td>\n",
       "    </tr>\n",
       "    <tr>\n",
       "      <th>2016-06-24</th>\n",
       "      <td>0.002249</td>\n",
       "      <td>0.003755</td>\n",
       "    </tr>\n",
       "    <tr>\n",
       "      <th>2016-06-27</th>\n",
       "      <td>0.000000</td>\n",
       "      <td>0.000000</td>\n",
       "    </tr>\n",
       "  </tbody>\n",
       "</table>\n",
       "</div>"
      ],
      "text/plain": [
       "                open     close\n",
       "date                          \n",
       "2016-06-14  0.024532  0.026984\n",
       "2016-06-15  0.025891  0.027334\n",
       "2016-06-16  0.023685  0.022716\n",
       "2016-06-17  0.020308  0.012658\n",
       "2016-06-20  0.014979  0.013732\n",
       "2016-06-21  0.014779  0.014935\n",
       "2016-06-22  0.015135  0.015755\n",
       "2016-06-23  0.014267  0.018135\n",
       "2016-06-24  0.002249  0.003755\n",
       "2016-06-27  0.000000  0.000000"
      ]
     },
     "execution_count": 9,
     "metadata": {},
     "output_type": "execute_result"
    }
   ],
   "source": [
    "# normalizing all the values of all columns using MinMaxScaler\n",
    "MMS = MinMaxScaler()\n",
    "df[df.columns] = MMS.fit_transform(df)\n",
    "df.head(10)"
   ]
  },
  {
   "cell_type": "code",
   "execution_count": 10,
   "id": "98ba9eae",
   "metadata": {},
   "outputs": [
    {
     "data": {
      "text/plain": [
       "944"
      ]
     },
     "execution_count": 10,
     "metadata": {},
     "output_type": "execute_result"
    }
   ],
   "source": [
    "# splitting the data into training and test set\n",
    "training_size = round(len(df) * 0.75) # Selecting 75 % for training and 25 % for testing\n",
    "training_size"
   ]
  },
  {
   "cell_type": "code",
   "execution_count": 11,
   "id": "b66f8ff0",
   "metadata": {},
   "outputs": [
    {
     "data": {
      "text/plain": [
       "((944, 2), (314, 2))"
      ]
     },
     "execution_count": 11,
     "metadata": {},
     "output_type": "execute_result"
    }
   ],
   "source": [
    "train_data = df[:training_size]\n",
    "test_data  = df[training_size:]\n",
    "\n",
    "train_data.shape, test_data.shape"
   ]
  },
  {
   "cell_type": "code",
   "execution_count": 12,
   "id": "74705ff8",
   "metadata": {},
   "outputs": [],
   "source": [
    "# Function to create sequence of data for training and testing\n",
    "\n",
    "def create_sequence(dataset):\n",
    "  sequences = []\n",
    "  labels = []\n",
    "\n",
    "  start_idx = 0\n",
    "\n",
    "  for stop_idx in range(50,len(dataset)): # Selecting 50 rows at a time\n",
    "    sequences.append(dataset.iloc[start_idx:stop_idx])\n",
    "    labels.append(dataset.iloc[stop_idx])\n",
    "    start_idx += 1\n",
    "  return (np.array(sequences),np.array(labels))"
   ]
  },
  {
   "cell_type": "code",
   "execution_count": 13,
   "id": "5a7be779",
   "metadata": {},
   "outputs": [
    {
     "data": {
      "text/plain": [
       "((894, 50, 2), (894, 2), (264, 50, 2), (264, 2))"
      ]
     },
     "execution_count": 13,
     "metadata": {},
     "output_type": "execute_result"
    }
   ],
   "source": [
    "train_seq, train_label = create_sequence(train_data) \n",
    "test_seq, test_label = create_sequence(test_data)\n",
    "train_seq.shape, train_label.shape, test_seq.shape, test_label.shape"
   ]
  },
  {
   "cell_type": "markdown",
   "id": "69549569",
   "metadata": {},
   "source": [
    "## STEP 4 : CREATING LSTM MODEL"
   ]
  },
  {
   "cell_type": "code",
   "execution_count": 14,
   "id": "517708fd",
   "metadata": {},
   "outputs": [
    {
     "name": "stdout",
     "output_type": "stream",
     "text": [
      "Model: \"sequential\"\n",
      "_________________________________________________________________\n",
      " Layer (type)                Output Shape              Param #   \n",
      "=================================================================\n",
      " lstm (LSTM)                 (None, 50, 50)            10600     \n",
      "                                                                 \n",
      " dropout (Dropout)           (None, 50, 50)            0         \n",
      "                                                                 \n",
      " lstm_1 (LSTM)               (None, 50)                20200     \n",
      "                                                                 \n",
      " dense (Dense)               (None, 2)                 102       \n",
      "                                                                 \n",
      "=================================================================\n",
      "Total params: 30902 (120.71 KB)\n",
      "Trainable params: 30902 (120.71 KB)\n",
      "Non-trainable params: 0 (0.00 Byte)\n",
      "_________________________________________________________________\n"
     ]
    }
   ],
   "source": [
    "# imported Sequential from keras.models \n",
    "model = Sequential()\n",
    "# importing Dense, Dropout, LSTM, Bidirectional from keras.layers \n",
    "model.add(LSTM(units=50, return_sequences=True, input_shape = (train_seq.shape[1], train_seq.shape[2])))\n",
    "\n",
    "model.add(Dropout(0.1)) \n",
    "model.add(LSTM(units=50))\n",
    "\n",
    "model.add(Dense(2))\n",
    "\n",
    "model.compile(loss='mean_squared_error', optimizer='adam', metrics=['mean_absolute_error'])\n",
    "\n",
    "model.summary()"
   ]
  },
  {
   "cell_type": "code",
   "execution_count": 15,
   "id": "51982208",
   "metadata": {},
   "outputs": [
    {
     "name": "stdout",
     "output_type": "stream",
     "text": [
      "Epoch 1/100\n",
      "28/28 [==============================] - 9s 104ms/step - loss: 0.0086 - mean_absolute_error: 0.0642 - val_loss: 0.0174 - val_mean_absolute_error: 0.1004\n",
      "Epoch 2/100\n",
      "28/28 [==============================] - 1s 44ms/step - loss: 7.1949e-04 - mean_absolute_error: 0.0205 - val_loss: 0.0050 - val_mean_absolute_error: 0.0541\n",
      "Epoch 3/100\n",
      "28/28 [==============================] - 1s 47ms/step - loss: 4.3778e-04 - mean_absolute_error: 0.0154 - val_loss: 0.0050 - val_mean_absolute_error: 0.0561\n",
      "Epoch 4/100\n",
      "28/28 [==============================] - 1s 51ms/step - loss: 4.3576e-04 - mean_absolute_error: 0.0155 - val_loss: 0.0054 - val_mean_absolute_error: 0.0582\n",
      "Epoch 5/100\n",
      "28/28 [==============================] - 1s 51ms/step - loss: 4.3431e-04 - mean_absolute_error: 0.0152 - val_loss: 0.0050 - val_mean_absolute_error: 0.0557\n",
      "Epoch 6/100\n",
      "28/28 [==============================] - 1s 50ms/step - loss: 4.1116e-04 - mean_absolute_error: 0.0148 - val_loss: 0.0069 - val_mean_absolute_error: 0.0682\n",
      "Epoch 7/100\n",
      "28/28 [==============================] - 1s 52ms/step - loss: 4.0563e-04 - mean_absolute_error: 0.0146 - val_loss: 0.0058 - val_mean_absolute_error: 0.0617\n",
      "Epoch 8/100\n",
      "28/28 [==============================] - 1s 50ms/step - loss: 3.8462e-04 - mean_absolute_error: 0.0143 - val_loss: 0.0053 - val_mean_absolute_error: 0.0585\n",
      "Epoch 9/100\n",
      "28/28 [==============================] - 1s 52ms/step - loss: 3.9412e-04 - mean_absolute_error: 0.0144 - val_loss: 0.0077 - val_mean_absolute_error: 0.0733\n",
      "Epoch 10/100\n",
      "28/28 [==============================] - 2s 56ms/step - loss: 4.0023e-04 - mean_absolute_error: 0.0145 - val_loss: 0.0038 - val_mean_absolute_error: 0.0474\n",
      "Epoch 11/100\n",
      "28/28 [==============================] - 2s 55ms/step - loss: 4.0392e-04 - mean_absolute_error: 0.0146 - val_loss: 0.0054 - val_mean_absolute_error: 0.0595\n",
      "Epoch 12/100\n",
      "28/28 [==============================] - 1s 51ms/step - loss: 3.5217e-04 - mean_absolute_error: 0.0137 - val_loss: 0.0047 - val_mean_absolute_error: 0.0542\n",
      "Epoch 13/100\n",
      "28/28 [==============================] - 1s 47ms/step - loss: 3.6181e-04 - mean_absolute_error: 0.0138 - val_loss: 0.0047 - val_mean_absolute_error: 0.0549\n",
      "Epoch 14/100\n",
      "28/28 [==============================] - 1s 45ms/step - loss: 3.4782e-04 - mean_absolute_error: 0.0137 - val_loss: 0.0024 - val_mean_absolute_error: 0.0364\n",
      "Epoch 15/100\n",
      "28/28 [==============================] - 1s 46ms/step - loss: 3.7243e-04 - mean_absolute_error: 0.0142 - val_loss: 0.0039 - val_mean_absolute_error: 0.0485\n",
      "Epoch 16/100\n",
      "28/28 [==============================] - 1s 46ms/step - loss: 3.3260e-04 - mean_absolute_error: 0.0133 - val_loss: 0.0047 - val_mean_absolute_error: 0.0547\n",
      "Epoch 17/100\n",
      "28/28 [==============================] - 1s 52ms/step - loss: 3.1760e-04 - mean_absolute_error: 0.0130 - val_loss: 0.0038 - val_mean_absolute_error: 0.0485\n",
      "Epoch 18/100\n",
      "28/28 [==============================] - 1s 47ms/step - loss: 3.2096e-04 - mean_absolute_error: 0.0132 - val_loss: 0.0045 - val_mean_absolute_error: 0.0539\n",
      "Epoch 19/100\n",
      "28/28 [==============================] - 1s 46ms/step - loss: 3.1041e-04 - mean_absolute_error: 0.0130 - val_loss: 0.0053 - val_mean_absolute_error: 0.0594\n",
      "Epoch 20/100\n",
      "28/28 [==============================] - 1s 45ms/step - loss: 3.0145e-04 - mean_absolute_error: 0.0125 - val_loss: 0.0057 - val_mean_absolute_error: 0.0619\n",
      "Epoch 21/100\n",
      "28/28 [==============================] - 1s 44ms/step - loss: 3.0176e-04 - mean_absolute_error: 0.0128 - val_loss: 0.0049 - val_mean_absolute_error: 0.0561\n",
      "Epoch 22/100\n",
      "28/28 [==============================] - 1s 47ms/step - loss: 3.1432e-04 - mean_absolute_error: 0.0130 - val_loss: 0.0056 - val_mean_absolute_error: 0.0617\n",
      "Epoch 23/100\n",
      "28/28 [==============================] - 2s 53ms/step - loss: 2.9034e-04 - mean_absolute_error: 0.0126 - val_loss: 0.0052 - val_mean_absolute_error: 0.0588\n",
      "Epoch 24/100\n",
      "28/28 [==============================] - 1s 52ms/step - loss: 2.8364e-04 - mean_absolute_error: 0.0125 - val_loss: 0.0034 - val_mean_absolute_error: 0.0451\n",
      "Epoch 25/100\n",
      "28/28 [==============================] - 1s 51ms/step - loss: 3.1405e-04 - mean_absolute_error: 0.0132 - val_loss: 0.0021 - val_mean_absolute_error: 0.0346\n",
      "Epoch 26/100\n",
      "28/28 [==============================] - 2s 56ms/step - loss: 3.0690e-04 - mean_absolute_error: 0.0128 - val_loss: 0.0031 - val_mean_absolute_error: 0.0429\n",
      "Epoch 27/100\n",
      "28/28 [==============================] - 1s 52ms/step - loss: 2.7589e-04 - mean_absolute_error: 0.0122 - val_loss: 0.0036 - val_mean_absolute_error: 0.0472\n",
      "Epoch 28/100\n",
      "28/28 [==============================] - 1s 50ms/step - loss: 2.6377e-04 - mean_absolute_error: 0.0118 - val_loss: 0.0057 - val_mean_absolute_error: 0.0622\n",
      "Epoch 29/100\n",
      "28/28 [==============================] - 2s 54ms/step - loss: 2.8855e-04 - mean_absolute_error: 0.0126 - val_loss: 0.0054 - val_mean_absolute_error: 0.0608\n",
      "Epoch 30/100\n",
      "28/28 [==============================] - 1s 51ms/step - loss: 3.0722e-04 - mean_absolute_error: 0.0128 - val_loss: 0.0051 - val_mean_absolute_error: 0.0579\n",
      "Epoch 31/100\n",
      "28/28 [==============================] - 1s 45ms/step - loss: 2.4634e-04 - mean_absolute_error: 0.0117 - val_loss: 0.0034 - val_mean_absolute_error: 0.0452\n",
      "Epoch 32/100\n",
      "28/28 [==============================] - 1s 43ms/step - loss: 2.5642e-04 - mean_absolute_error: 0.0117 - val_loss: 0.0046 - val_mean_absolute_error: 0.0555\n",
      "Epoch 33/100\n",
      "28/28 [==============================] - 1s 53ms/step - loss: 2.4797e-04 - mean_absolute_error: 0.0117 - val_loss: 0.0026 - val_mean_absolute_error: 0.0393\n",
      "Epoch 34/100\n",
      "28/28 [==============================] - 1s 53ms/step - loss: 2.5294e-04 - mean_absolute_error: 0.0115 - val_loss: 0.0034 - val_mean_absolute_error: 0.0460\n",
      "Epoch 35/100\n",
      "28/28 [==============================] - 1s 49ms/step - loss: 2.7815e-04 - mean_absolute_error: 0.0123 - val_loss: 0.0025 - val_mean_absolute_error: 0.0381\n",
      "Epoch 36/100\n",
      "28/28 [==============================] - 1s 44ms/step - loss: 2.5155e-04 - mean_absolute_error: 0.0115 - val_loss: 0.0028 - val_mean_absolute_error: 0.0416\n",
      "Epoch 37/100\n",
      "28/28 [==============================] - 1s 43ms/step - loss: 2.8582e-04 - mean_absolute_error: 0.0126 - val_loss: 0.0038 - val_mean_absolute_error: 0.0495\n",
      "Epoch 38/100\n",
      "28/28 [==============================] - 1s 44ms/step - loss: 2.3448e-04 - mean_absolute_error: 0.0111 - val_loss: 0.0043 - val_mean_absolute_error: 0.0524\n",
      "Epoch 39/100\n",
      "28/28 [==============================] - 1s 44ms/step - loss: 2.4917e-04 - mean_absolute_error: 0.0115 - val_loss: 0.0042 - val_mean_absolute_error: 0.0534\n",
      "Epoch 40/100\n",
      "28/28 [==============================] - 1s 45ms/step - loss: 3.2177e-04 - mean_absolute_error: 0.0136 - val_loss: 0.0023 - val_mean_absolute_error: 0.0367\n",
      "Epoch 41/100\n",
      "28/28 [==============================] - 1s 51ms/step - loss: 2.6768e-04 - mean_absolute_error: 0.0121 - val_loss: 0.0014 - val_mean_absolute_error: 0.0283\n",
      "Epoch 42/100\n",
      "28/28 [==============================] - 1s 50ms/step - loss: 2.1884e-04 - mean_absolute_error: 0.0107 - val_loss: 0.0037 - val_mean_absolute_error: 0.0491\n",
      "Epoch 43/100\n",
      "28/28 [==============================] - 1s 48ms/step - loss: 2.2717e-04 - mean_absolute_error: 0.0111 - val_loss: 0.0065 - val_mean_absolute_error: 0.0691\n",
      "Epoch 44/100\n",
      "28/28 [==============================] - 1s 43ms/step - loss: 2.3333e-04 - mean_absolute_error: 0.0111 - val_loss: 0.0054 - val_mean_absolute_error: 0.0619\n",
      "Epoch 45/100\n",
      "28/28 [==============================] - 1s 44ms/step - loss: 2.2744e-04 - mean_absolute_error: 0.0112 - val_loss: 0.0050 - val_mean_absolute_error: 0.0594\n",
      "Epoch 46/100\n",
      "28/28 [==============================] - 1s 43ms/step - loss: 2.4913e-04 - mean_absolute_error: 0.0119 - val_loss: 0.0027 - val_mean_absolute_error: 0.0410\n",
      "Epoch 47/100\n",
      "28/28 [==============================] - 1s 44ms/step - loss: 2.2358e-04 - mean_absolute_error: 0.0109 - val_loss: 0.0019 - val_mean_absolute_error: 0.0330\n",
      "Epoch 48/100\n",
      "28/28 [==============================] - 1s 44ms/step - loss: 2.1291e-04 - mean_absolute_error: 0.0106 - val_loss: 0.0011 - val_mean_absolute_error: 0.0243\n",
      "Epoch 49/100\n"
     ]
    },
    {
     "name": "stdout",
     "output_type": "stream",
     "text": [
      "28/28 [==============================] - 1s 45ms/step - loss: 2.1581e-04 - mean_absolute_error: 0.0108 - val_loss: 0.0026 - val_mean_absolute_error: 0.0413\n",
      "Epoch 50/100\n",
      "28/28 [==============================] - 1s 44ms/step - loss: 2.1621e-04 - mean_absolute_error: 0.0105 - val_loss: 0.0039 - val_mean_absolute_error: 0.0522\n",
      "Epoch 51/100\n",
      "28/28 [==============================] - 1s 47ms/step - loss: 2.1620e-04 - mean_absolute_error: 0.0109 - val_loss: 0.0017 - val_mean_absolute_error: 0.0312\n",
      "Epoch 52/100\n",
      "28/28 [==============================] - 1s 48ms/step - loss: 2.1186e-04 - mean_absolute_error: 0.0109 - val_loss: 0.0021 - val_mean_absolute_error: 0.0364\n",
      "Epoch 53/100\n",
      "28/28 [==============================] - 1s 47ms/step - loss: 2.2601e-04 - mean_absolute_error: 0.0113 - val_loss: 0.0013 - val_mean_absolute_error: 0.0271\n",
      "Epoch 54/100\n",
      "28/28 [==============================] - 1s 49ms/step - loss: 1.9233e-04 - mean_absolute_error: 0.0102 - val_loss: 0.0015 - val_mean_absolute_error: 0.0293\n",
      "Epoch 55/100\n",
      "28/28 [==============================] - 1s 46ms/step - loss: 1.8858e-04 - mean_absolute_error: 0.0100 - val_loss: 0.0027 - val_mean_absolute_error: 0.0420\n",
      "Epoch 56/100\n",
      "28/28 [==============================] - 1s 48ms/step - loss: 1.7639e-04 - mean_absolute_error: 0.0096 - val_loss: 0.0033 - val_mean_absolute_error: 0.0474\n",
      "Epoch 57/100\n",
      "28/28 [==============================] - 1s 50ms/step - loss: 1.8268e-04 - mean_absolute_error: 0.0098 - val_loss: 0.0022 - val_mean_absolute_error: 0.0379\n",
      "Epoch 58/100\n",
      "28/28 [==============================] - 1s 47ms/step - loss: 1.8933e-04 - mean_absolute_error: 0.0101 - val_loss: 0.0020 - val_mean_absolute_error: 0.0358\n",
      "Epoch 59/100\n",
      "28/28 [==============================] - 1s 43ms/step - loss: 1.9510e-04 - mean_absolute_error: 0.0105 - val_loss: 0.0015 - val_mean_absolute_error: 0.0304\n",
      "Epoch 60/100\n",
      "28/28 [==============================] - 1s 44ms/step - loss: 1.9215e-04 - mean_absolute_error: 0.0102 - val_loss: 7.3709e-04 - val_mean_absolute_error: 0.0201\n",
      "Epoch 61/100\n",
      "28/28 [==============================] - 1s 43ms/step - loss: 1.7420e-04 - mean_absolute_error: 0.0097 - val_loss: 0.0020 - val_mean_absolute_error: 0.0354\n",
      "Epoch 62/100\n",
      "28/28 [==============================] - 1s 44ms/step - loss: 1.9636e-04 - mean_absolute_error: 0.0102 - val_loss: 0.0020 - val_mean_absolute_error: 0.0352\n",
      "Epoch 63/100\n",
      "28/28 [==============================] - 1s 43ms/step - loss: 1.6727e-04 - mean_absolute_error: 0.0095 - val_loss: 0.0047 - val_mean_absolute_error: 0.0591\n",
      "Epoch 64/100\n",
      "28/28 [==============================] - 1s 43ms/step - loss: 2.0361e-04 - mean_absolute_error: 0.0105 - val_loss: 0.0039 - val_mean_absolute_error: 0.0531\n",
      "Epoch 65/100\n",
      "28/28 [==============================] - 1s 42ms/step - loss: 1.8201e-04 - mean_absolute_error: 0.0098 - val_loss: 0.0032 - val_mean_absolute_error: 0.0472\n",
      "Epoch 66/100\n",
      "28/28 [==============================] - 1s 43ms/step - loss: 1.6332e-04 - mean_absolute_error: 0.0091 - val_loss: 0.0014 - val_mean_absolute_error: 0.0288\n",
      "Epoch 67/100\n",
      "28/28 [==============================] - 1s 45ms/step - loss: 1.6488e-04 - mean_absolute_error: 0.0095 - val_loss: 0.0026 - val_mean_absolute_error: 0.0419\n",
      "Epoch 68/100\n",
      "28/28 [==============================] - 1s 44ms/step - loss: 2.0031e-04 - mean_absolute_error: 0.0105 - val_loss: 0.0018 - val_mean_absolute_error: 0.0340\n",
      "Epoch 69/100\n",
      "28/28 [==============================] - 1s 49ms/step - loss: 1.5601e-04 - mean_absolute_error: 0.0091 - val_loss: 0.0017 - val_mean_absolute_error: 0.0336\n",
      "Epoch 70/100\n",
      "28/28 [==============================] - 1s 46ms/step - loss: 1.6000e-04 - mean_absolute_error: 0.0092 - val_loss: 8.7205e-04 - val_mean_absolute_error: 0.0224\n",
      "Epoch 71/100\n",
      "28/28 [==============================] - 1s 43ms/step - loss: 1.5317e-04 - mean_absolute_error: 0.0090 - val_loss: 0.0019 - val_mean_absolute_error: 0.0350\n",
      "Epoch 72/100\n",
      "28/28 [==============================] - 1s 44ms/step - loss: 1.5244e-04 - mean_absolute_error: 0.0090 - val_loss: 0.0029 - val_mean_absolute_error: 0.0451\n",
      "Epoch 73/100\n",
      "28/28 [==============================] - 1s 42ms/step - loss: 1.5273e-04 - mean_absolute_error: 0.0090 - val_loss: 7.2621e-04 - val_mean_absolute_error: 0.0200\n",
      "Epoch 74/100\n",
      "28/28 [==============================] - 1s 43ms/step - loss: 1.5089e-04 - mean_absolute_error: 0.0088 - val_loss: 0.0019 - val_mean_absolute_error: 0.0349\n",
      "Epoch 75/100\n",
      "28/28 [==============================] - 1s 45ms/step - loss: 1.6477e-04 - mean_absolute_error: 0.0094 - val_loss: 0.0020 - val_mean_absolute_error: 0.0363\n",
      "Epoch 76/100\n",
      "28/28 [==============================] - 1s 43ms/step - loss: 1.4581e-04 - mean_absolute_error: 0.0087 - val_loss: 0.0014 - val_mean_absolute_error: 0.0294\n",
      "Epoch 77/100\n",
      "28/28 [==============================] - 1s 43ms/step - loss: 1.4334e-04 - mean_absolute_error: 0.0087 - val_loss: 0.0022 - val_mean_absolute_error: 0.0391\n",
      "Epoch 78/100\n",
      "28/28 [==============================] - 1s 43ms/step - loss: 1.4441e-04 - mean_absolute_error: 0.0088 - val_loss: 0.0036 - val_mean_absolute_error: 0.0510\n",
      "Epoch 79/100\n",
      "28/28 [==============================] - 1s 44ms/step - loss: 1.3726e-04 - mean_absolute_error: 0.0085 - val_loss: 0.0030 - val_mean_absolute_error: 0.0455\n",
      "Epoch 80/100\n",
      "28/28 [==============================] - 1s 43ms/step - loss: 1.4671e-04 - mean_absolute_error: 0.0088 - val_loss: 0.0017 - val_mean_absolute_error: 0.0333\n",
      "Epoch 81/100\n",
      "28/28 [==============================] - 1s 44ms/step - loss: 1.4450e-04 - mean_absolute_error: 0.0086 - val_loss: 0.0030 - val_mean_absolute_error: 0.0460\n",
      "Epoch 82/100\n",
      "28/28 [==============================] - 1s 44ms/step - loss: 1.3717e-04 - mean_absolute_error: 0.0084 - val_loss: 0.0042 - val_mean_absolute_error: 0.0561\n",
      "Epoch 83/100\n",
      "28/28 [==============================] - 1s 44ms/step - loss: 1.3726e-04 - mean_absolute_error: 0.0084 - val_loss: 0.0011 - val_mean_absolute_error: 0.0263\n",
      "Epoch 84/100\n",
      "28/28 [==============================] - 1s 45ms/step - loss: 1.4394e-04 - mean_absolute_error: 0.0088 - val_loss: 0.0011 - val_mean_absolute_error: 0.0268\n",
      "Epoch 85/100\n",
      "28/28 [==============================] - 1s 51ms/step - loss: 1.3392e-04 - mean_absolute_error: 0.0083 - val_loss: 0.0028 - val_mean_absolute_error: 0.0442\n",
      "Epoch 86/100\n",
      "28/28 [==============================] - 1s 49ms/step - loss: 1.4326e-04 - mean_absolute_error: 0.0087 - val_loss: 6.7103e-04 - val_mean_absolute_error: 0.0195\n",
      "Epoch 87/100\n",
      "28/28 [==============================] - 1s 43ms/step - loss: 1.4268e-04 - mean_absolute_error: 0.0087 - val_loss: 6.6803e-04 - val_mean_absolute_error: 0.0195\n",
      "Epoch 88/100\n",
      "28/28 [==============================] - 1s 44ms/step - loss: 1.3960e-04 - mean_absolute_error: 0.0087 - val_loss: 7.9314e-04 - val_mean_absolute_error: 0.0213\n",
      "Epoch 89/100\n",
      "28/28 [==============================] - 1s 46ms/step - loss: 1.5293e-04 - mean_absolute_error: 0.0089 - val_loss: 0.0019 - val_mean_absolute_error: 0.0361\n",
      "Epoch 90/100\n",
      "28/28 [==============================] - 1s 43ms/step - loss: 1.3438e-04 - mean_absolute_error: 0.0085 - val_loss: 0.0022 - val_mean_absolute_error: 0.0389\n",
      "Epoch 91/100\n",
      "28/28 [==============================] - 1s 43ms/step - loss: 1.3279e-04 - mean_absolute_error: 0.0083 - val_loss: 0.0018 - val_mean_absolute_error: 0.0338\n",
      "Epoch 92/100\n",
      "28/28 [==============================] - 1s 43ms/step - loss: 1.3500e-04 - mean_absolute_error: 0.0085 - val_loss: 9.3251e-04 - val_mean_absolute_error: 0.0234\n",
      "Epoch 93/100\n",
      "28/28 [==============================] - 1s 44ms/step - loss: 1.2696e-04 - mean_absolute_error: 0.0083 - val_loss: 0.0018 - val_mean_absolute_error: 0.0349\n",
      "Epoch 94/100\n",
      "28/28 [==============================] - 1s 44ms/step - loss: 1.1926e-04 - mean_absolute_error: 0.0078 - val_loss: 0.0027 - val_mean_absolute_error: 0.0437\n",
      "Epoch 95/100\n",
      "28/28 [==============================] - 1s 48ms/step - loss: 1.6323e-04 - mean_absolute_error: 0.0095 - val_loss: 0.0016 - val_mean_absolute_error: 0.0316\n",
      "Epoch 96/100\n",
      "28/28 [==============================] - 1s 44ms/step - loss: 1.1664e-04 - mean_absolute_error: 0.0077 - val_loss: 0.0011 - val_mean_absolute_error: 0.0259\n",
      "Epoch 97/100\n"
     ]
    },
    {
     "name": "stdout",
     "output_type": "stream",
     "text": [
      "28/28 [==============================] - 1s 43ms/step - loss: 1.1343e-04 - mean_absolute_error: 0.0077 - val_loss: 0.0020 - val_mean_absolute_error: 0.0373\n",
      "Epoch 98/100\n",
      "28/28 [==============================] - 1s 47ms/step - loss: 1.1278e-04 - mean_absolute_error: 0.0076 - val_loss: 7.4945e-04 - val_mean_absolute_error: 0.0211\n",
      "Epoch 99/100\n",
      "28/28 [==============================] - 1s 47ms/step - loss: 1.0835e-04 - mean_absolute_error: 0.0075 - val_loss: 0.0020 - val_mean_absolute_error: 0.0370\n",
      "Epoch 100/100\n",
      "28/28 [==============================] - 1s 47ms/step - loss: 1.2666e-04 - mean_absolute_error: 0.0080 - val_loss: 0.0023 - val_mean_absolute_error: 0.0392\n"
     ]
    },
    {
     "data": {
      "text/plain": [
       "<keras.src.callbacks.History at 0x1dac4af1790>"
      ]
     },
     "execution_count": 15,
     "metadata": {},
     "output_type": "execute_result"
    }
   ],
   "source": [
    "# fitting the model by iterating the dataset over 100 times(100 epochs)\n",
    "model.fit(train_seq, train_label, epochs=100,validation_data=(test_seq, test_label), verbose=1)"
   ]
  },
  {
   "cell_type": "code",
   "execution_count": 16,
   "id": "0b332bcf",
   "metadata": {},
   "outputs": [
    {
     "name": "stdout",
     "output_type": "stream",
     "text": [
      "Epoch 1/100\n",
      "28/28 [==============================] - 1s 50ms/step - loss: 1.0782e-04 - mean_absolute_error: 0.0074 - val_loss: 0.0017 - val_mean_absolute_error: 0.0327\n",
      "Epoch 2/100\n",
      "28/28 [==============================] - 1s 46ms/step - loss: 1.0740e-04 - mean_absolute_error: 0.0074 - val_loss: 0.0017 - val_mean_absolute_error: 0.0326\n",
      "Epoch 3/100\n",
      "28/28 [==============================] - 1s 43ms/step - loss: 1.1113e-04 - mean_absolute_error: 0.0075 - val_loss: 0.0011 - val_mean_absolute_error: 0.0257\n",
      "Epoch 4/100\n",
      "28/28 [==============================] - 1s 48ms/step - loss: 1.1383e-04 - mean_absolute_error: 0.0076 - val_loss: 7.8888e-04 - val_mean_absolute_error: 0.0213\n",
      "Epoch 5/100\n",
      "28/28 [==============================] - 1s 43ms/step - loss: 1.1123e-04 - mean_absolute_error: 0.0075 - val_loss: 0.0017 - val_mean_absolute_error: 0.0332\n",
      "Epoch 6/100\n",
      "28/28 [==============================] - 1s 43ms/step - loss: 1.2244e-04 - mean_absolute_error: 0.0080 - val_loss: 0.0020 - val_mean_absolute_error: 0.0373\n",
      "Epoch 7/100\n",
      "28/28 [==============================] - 1s 44ms/step - loss: 1.1049e-04 - mean_absolute_error: 0.0077 - val_loss: 0.0012 - val_mean_absolute_error: 0.0272\n",
      "Epoch 8/100\n",
      "28/28 [==============================] - 1s 45ms/step - loss: 1.0829e-04 - mean_absolute_error: 0.0074 - val_loss: 0.0013 - val_mean_absolute_error: 0.0282\n",
      "Epoch 9/100\n",
      "28/28 [==============================] - 1s 44ms/step - loss: 1.1773e-04 - mean_absolute_error: 0.0079 - val_loss: 6.5559e-04 - val_mean_absolute_error: 0.0194\n",
      "Epoch 10/100\n",
      "28/28 [==============================] - 1s 50ms/step - loss: 1.2666e-04 - mean_absolute_error: 0.0084 - val_loss: 9.0839e-04 - val_mean_absolute_error: 0.0234\n",
      "Epoch 11/100\n",
      "28/28 [==============================] - 1s 47ms/step - loss: 1.4366e-04 - mean_absolute_error: 0.0089 - val_loss: 8.0649e-04 - val_mean_absolute_error: 0.0209\n",
      "Epoch 12/100\n",
      "28/28 [==============================] - 1s 46ms/step - loss: 1.0685e-04 - mean_absolute_error: 0.0074 - val_loss: 0.0011 - val_mean_absolute_error: 0.0247\n",
      "Epoch 13/100\n",
      "28/28 [==============================] - 1s 49ms/step - loss: 1.0883e-04 - mean_absolute_error: 0.0074 - val_loss: 9.0574e-04 - val_mean_absolute_error: 0.0224\n",
      "Epoch 14/100\n",
      "28/28 [==============================] - 1s 49ms/step - loss: 1.0498e-04 - mean_absolute_error: 0.0072 - val_loss: 8.9112e-04 - val_mean_absolute_error: 0.0224\n",
      "Epoch 15/100\n",
      "28/28 [==============================] - 1s 49ms/step - loss: 1.0865e-04 - mean_absolute_error: 0.0074 - val_loss: 9.6964e-04 - val_mean_absolute_error: 0.0238\n",
      "Epoch 16/100\n",
      "28/28 [==============================] - 1s 46ms/step - loss: 1.0669e-04 - mean_absolute_error: 0.0073 - val_loss: 0.0025 - val_mean_absolute_error: 0.0404\n",
      "Epoch 17/100\n",
      "28/28 [==============================] - 1s 47ms/step - loss: 1.0759e-04 - mean_absolute_error: 0.0074 - val_loss: 0.0013 - val_mean_absolute_error: 0.0277\n",
      "Epoch 18/100\n",
      "28/28 [==============================] - 1s 48ms/step - loss: 1.0343e-04 - mean_absolute_error: 0.0072 - val_loss: 0.0014 - val_mean_absolute_error: 0.0300\n",
      "Epoch 19/100\n",
      "28/28 [==============================] - 1s 43ms/step - loss: 1.1246e-04 - mean_absolute_error: 0.0075 - val_loss: 9.6371e-04 - val_mean_absolute_error: 0.0237\n",
      "Epoch 20/100\n",
      "28/28 [==============================] - 1s 48ms/step - loss: 1.0733e-04 - mean_absolute_error: 0.0074 - val_loss: 8.0373e-04 - val_mean_absolute_error: 0.0217\n",
      "Epoch 21/100\n",
      "28/28 [==============================] - 1s 46ms/step - loss: 9.9565e-05 - mean_absolute_error: 0.0069 - val_loss: 7.5342e-04 - val_mean_absolute_error: 0.0208\n",
      "Epoch 22/100\n",
      "28/28 [==============================] - 1s 44ms/step - loss: 9.7997e-05 - mean_absolute_error: 0.0069 - val_loss: 0.0012 - val_mean_absolute_error: 0.0271\n",
      "Epoch 23/100\n",
      "28/28 [==============================] - 1s 43ms/step - loss: 9.4319e-05 - mean_absolute_error: 0.0068 - val_loss: 0.0017 - val_mean_absolute_error: 0.0332\n",
      "Epoch 24/100\n",
      "28/28 [==============================] - 1s 49ms/step - loss: 8.6877e-05 - mean_absolute_error: 0.0066 - val_loss: 0.0012 - val_mean_absolute_error: 0.0267\n",
      "Epoch 25/100\n",
      "28/28 [==============================] - 1s 49ms/step - loss: 9.9905e-05 - mean_absolute_error: 0.0070 - val_loss: 0.0015 - val_mean_absolute_error: 0.0308\n",
      "Epoch 26/100\n",
      "28/28 [==============================] - 1s 50ms/step - loss: 9.7976e-05 - mean_absolute_error: 0.0069 - val_loss: 5.9352e-04 - val_mean_absolute_error: 0.0181\n",
      "Epoch 27/100\n",
      "28/28 [==============================] - 1s 49ms/step - loss: 9.6757e-05 - mean_absolute_error: 0.0070 - val_loss: 0.0024 - val_mean_absolute_error: 0.0414\n",
      "Epoch 28/100\n",
      "28/28 [==============================] - 1s 43ms/step - loss: 1.1177e-04 - mean_absolute_error: 0.0076 - val_loss: 0.0013 - val_mean_absolute_error: 0.0283\n",
      "Epoch 29/100\n",
      "28/28 [==============================] - 1s 44ms/step - loss: 9.4980e-05 - mean_absolute_error: 0.0068 - val_loss: 0.0010 - val_mean_absolute_error: 0.0241\n",
      "Epoch 30/100\n",
      "28/28 [==============================] - 1s 43ms/step - loss: 1.0089e-04 - mean_absolute_error: 0.0071 - val_loss: 0.0014 - val_mean_absolute_error: 0.0297\n",
      "Epoch 31/100\n",
      "28/28 [==============================] - 1s 46ms/step - loss: 8.9307e-05 - mean_absolute_error: 0.0065 - val_loss: 0.0016 - val_mean_absolute_error: 0.0320\n",
      "Epoch 32/100\n",
      "28/28 [==============================] - 1s 45ms/step - loss: 1.0755e-04 - mean_absolute_error: 0.0075 - val_loss: 0.0013 - val_mean_absolute_error: 0.0282\n",
      "Epoch 33/100\n",
      "28/28 [==============================] - 1s 42ms/step - loss: 9.6030e-05 - mean_absolute_error: 0.0069 - val_loss: 0.0025 - val_mean_absolute_error: 0.0406\n",
      "Epoch 34/100\n",
      "28/28 [==============================] - 1s 42ms/step - loss: 1.0244e-04 - mean_absolute_error: 0.0073 - val_loss: 0.0012 - val_mean_absolute_error: 0.0268\n",
      "Epoch 35/100\n",
      "28/28 [==============================] - 1s 46ms/step - loss: 1.0763e-04 - mean_absolute_error: 0.0075 - val_loss: 8.0785e-04 - val_mean_absolute_error: 0.0216\n",
      "Epoch 36/100\n",
      "28/28 [==============================] - 1s 43ms/step - loss: 9.3270e-05 - mean_absolute_error: 0.0068 - val_loss: 6.1630e-04 - val_mean_absolute_error: 0.0182\n",
      "Epoch 37/100\n",
      "28/28 [==============================] - 1s 42ms/step - loss: 9.8241e-05 - mean_absolute_error: 0.0069 - val_loss: 0.0016 - val_mean_absolute_error: 0.0324\n",
      "Epoch 38/100\n",
      "28/28 [==============================] - 1s 42ms/step - loss: 9.2559e-05 - mean_absolute_error: 0.0066 - val_loss: 9.2701e-04 - val_mean_absolute_error: 0.0238\n",
      "Epoch 39/100\n",
      "28/28 [==============================] - 1s 43ms/step - loss: 8.7656e-05 - mean_absolute_error: 0.0065 - val_loss: 9.2204e-04 - val_mean_absolute_error: 0.0229\n",
      "Epoch 40/100\n",
      "28/28 [==============================] - 1s 48ms/step - loss: 9.4626e-05 - mean_absolute_error: 0.0069 - val_loss: 9.0487e-04 - val_mean_absolute_error: 0.0226\n",
      "Epoch 41/100\n",
      "28/28 [==============================] - 1s 45ms/step - loss: 8.7810e-05 - mean_absolute_error: 0.0064 - val_loss: 0.0013 - val_mean_absolute_error: 0.0284\n",
      "Epoch 42/100\n",
      "28/28 [==============================] - 1s 43ms/step - loss: 9.0847e-05 - mean_absolute_error: 0.0065 - val_loss: 6.3583e-04 - val_mean_absolute_error: 0.0184\n",
      "Epoch 43/100\n",
      "28/28 [==============================] - 1s 45ms/step - loss: 8.6483e-05 - mean_absolute_error: 0.0064 - val_loss: 0.0016 - val_mean_absolute_error: 0.0331\n",
      "Epoch 44/100\n",
      "28/28 [==============================] - 1s 42ms/step - loss: 1.0657e-04 - mean_absolute_error: 0.0073 - val_loss: 6.5798e-04 - val_mean_absolute_error: 0.0192\n",
      "Epoch 45/100\n",
      "28/28 [==============================] - 1s 42ms/step - loss: 9.9435e-05 - mean_absolute_error: 0.0070 - val_loss: 7.8141e-04 - val_mean_absolute_error: 0.0208\n",
      "Epoch 46/100\n",
      "28/28 [==============================] - 1s 44ms/step - loss: 8.4029e-05 - mean_absolute_error: 0.0064 - val_loss: 7.7048e-04 - val_mean_absolute_error: 0.0208\n",
      "Epoch 47/100\n",
      "28/28 [==============================] - 1s 43ms/step - loss: 9.0233e-05 - mean_absolute_error: 0.0064 - val_loss: 9.5769e-04 - val_mean_absolute_error: 0.0232\n",
      "Epoch 48/100\n",
      "28/28 [==============================] - 1s 42ms/step - loss: 8.6696e-05 - mean_absolute_error: 0.0064 - val_loss: 9.6127e-04 - val_mean_absolute_error: 0.0233\n",
      "Epoch 49/100\n"
     ]
    },
    {
     "name": "stdout",
     "output_type": "stream",
     "text": [
      "28/28 [==============================] - 1s 42ms/step - loss: 8.8142e-05 - mean_absolute_error: 0.0065 - val_loss: 0.0015 - val_mean_absolute_error: 0.0307\n",
      "Epoch 50/100\n",
      "28/28 [==============================] - 1s 43ms/step - loss: 9.9188e-05 - mean_absolute_error: 0.0071 - val_loss: 0.0012 - val_mean_absolute_error: 0.0276\n",
      "Epoch 51/100\n",
      "28/28 [==============================] - 1s 42ms/step - loss: 9.9426e-05 - mean_absolute_error: 0.0071 - val_loss: 0.0012 - val_mean_absolute_error: 0.0265\n",
      "Epoch 52/100\n",
      "28/28 [==============================] - 1s 45ms/step - loss: 8.8807e-05 - mean_absolute_error: 0.0065 - val_loss: 8.1863e-04 - val_mean_absolute_error: 0.0212\n",
      "Epoch 53/100\n",
      "28/28 [==============================] - 1s 46ms/step - loss: 9.7396e-05 - mean_absolute_error: 0.0069 - val_loss: 0.0015 - val_mean_absolute_error: 0.0306\n",
      "Epoch 54/100\n",
      "28/28 [==============================] - 1s 46ms/step - loss: 8.9950e-05 - mean_absolute_error: 0.0065 - val_loss: 0.0020 - val_mean_absolute_error: 0.0373\n",
      "Epoch 55/100\n",
      "28/28 [==============================] - 1s 42ms/step - loss: 1.0089e-04 - mean_absolute_error: 0.0071 - val_loss: 0.0012 - val_mean_absolute_error: 0.0267\n",
      "Epoch 56/100\n",
      "28/28 [==============================] - 1s 42ms/step - loss: 9.7038e-05 - mean_absolute_error: 0.0071 - val_loss: 6.7065e-04 - val_mean_absolute_error: 0.0187\n",
      "Epoch 57/100\n",
      "28/28 [==============================] - 1s 43ms/step - loss: 8.7434e-05 - mean_absolute_error: 0.0065 - val_loss: 7.5545e-04 - val_mean_absolute_error: 0.0204\n",
      "Epoch 58/100\n",
      "28/28 [==============================] - 1s 42ms/step - loss: 9.1465e-05 - mean_absolute_error: 0.0066 - val_loss: 0.0013 - val_mean_absolute_error: 0.0286\n",
      "Epoch 59/100\n",
      "28/28 [==============================] - 1s 42ms/step - loss: 8.2891e-05 - mean_absolute_error: 0.0062 - val_loss: 0.0011 - val_mean_absolute_error: 0.0254\n",
      "Epoch 60/100\n",
      "28/28 [==============================] - 1s 46ms/step - loss: 8.3785e-05 - mean_absolute_error: 0.0063 - val_loss: 6.1375e-04 - val_mean_absolute_error: 0.0183\n",
      "Epoch 61/100\n",
      "28/28 [==============================] - 1s 46ms/step - loss: 8.1751e-05 - mean_absolute_error: 0.0063 - val_loss: 0.0010 - val_mean_absolute_error: 0.0251\n",
      "Epoch 62/100\n",
      "28/28 [==============================] - 1s 46ms/step - loss: 8.5122e-05 - mean_absolute_error: 0.0063 - val_loss: 9.2788e-04 - val_mean_absolute_error: 0.0233\n",
      "Epoch 63/100\n",
      "28/28 [==============================] - 1s 42ms/step - loss: 8.0280e-05 - mean_absolute_error: 0.0061 - val_loss: 6.6052e-04 - val_mean_absolute_error: 0.0187\n",
      "Epoch 64/100\n",
      "28/28 [==============================] - 1s 42ms/step - loss: 8.3205e-05 - mean_absolute_error: 0.0062 - val_loss: 9.7640e-04 - val_mean_absolute_error: 0.0239\n",
      "Epoch 65/100\n",
      "28/28 [==============================] - 1s 42ms/step - loss: 8.2033e-05 - mean_absolute_error: 0.0061 - val_loss: 0.0012 - val_mean_absolute_error: 0.0270\n",
      "Epoch 66/100\n",
      "28/28 [==============================] - 1s 43ms/step - loss: 7.4507e-05 - mean_absolute_error: 0.0059 - val_loss: 0.0010 - val_mean_absolute_error: 0.0245\n",
      "Epoch 67/100\n",
      "28/28 [==============================] - 1s 42ms/step - loss: 7.2858e-05 - mean_absolute_error: 0.0059 - val_loss: 8.8814e-04 - val_mean_absolute_error: 0.0219\n",
      "Epoch 68/100\n",
      "28/28 [==============================] - 1s 42ms/step - loss: 8.1311e-05 - mean_absolute_error: 0.0061 - val_loss: 7.8210e-04 - val_mean_absolute_error: 0.0209\n",
      "Epoch 69/100\n",
      "28/28 [==============================] - 1s 43ms/step - loss: 8.0922e-05 - mean_absolute_error: 0.0061 - val_loss: 8.1267e-04 - val_mean_absolute_error: 0.0208\n",
      "Epoch 70/100\n",
      "28/28 [==============================] - 1s 42ms/step - loss: 8.4334e-05 - mean_absolute_error: 0.0063 - val_loss: 4.8150e-04 - val_mean_absolute_error: 0.0159\n",
      "Epoch 71/100\n",
      "28/28 [==============================] - 1s 42ms/step - loss: 8.2728e-05 - mean_absolute_error: 0.0060 - val_loss: 0.0011 - val_mean_absolute_error: 0.0265\n",
      "Epoch 72/100\n",
      "28/28 [==============================] - 1s 42ms/step - loss: 8.6903e-05 - mean_absolute_error: 0.0065 - val_loss: 0.0011 - val_mean_absolute_error: 0.0257\n",
      "Epoch 73/100\n",
      "28/28 [==============================] - 1s 43ms/step - loss: 8.2451e-05 - mean_absolute_error: 0.0061 - val_loss: 0.0012 - val_mean_absolute_error: 0.0275\n",
      "Epoch 74/100\n",
      "28/28 [==============================] - 1s 42ms/step - loss: 7.3976e-05 - mean_absolute_error: 0.0059 - val_loss: 0.0013 - val_mean_absolute_error: 0.0283\n",
      "Epoch 75/100\n",
      "28/28 [==============================] - 1s 47ms/step - loss: 7.8555e-05 - mean_absolute_error: 0.0059 - val_loss: 0.0015 - val_mean_absolute_error: 0.0304\n",
      "Epoch 76/100\n",
      "28/28 [==============================] - 1s 43ms/step - loss: 7.9075e-05 - mean_absolute_error: 0.0059 - val_loss: 0.0010 - val_mean_absolute_error: 0.0241\n",
      "Epoch 77/100\n",
      "28/28 [==============================] - 1s 43ms/step - loss: 1.0354e-04 - mean_absolute_error: 0.0073 - val_loss: 0.0021 - val_mean_absolute_error: 0.0375\n",
      "Epoch 78/100\n",
      "28/28 [==============================] - 1s 43ms/step - loss: 8.4369e-05 - mean_absolute_error: 0.0064 - val_loss: 0.0015 - val_mean_absolute_error: 0.0311\n",
      "Epoch 79/100\n",
      "28/28 [==============================] - 1s 43ms/step - loss: 1.1054e-04 - mean_absolute_error: 0.0073 - val_loss: 5.9963e-04 - val_mean_absolute_error: 0.0175\n",
      "Epoch 80/100\n",
      "28/28 [==============================] - 1s 45ms/step - loss: 8.3756e-05 - mean_absolute_error: 0.0064 - val_loss: 0.0013 - val_mean_absolute_error: 0.0285\n",
      "Epoch 81/100\n",
      "28/28 [==============================] - 1s 42ms/step - loss: 8.3794e-05 - mean_absolute_error: 0.0061 - val_loss: 7.0511e-04 - val_mean_absolute_error: 0.0198\n",
      "Epoch 82/100\n",
      "28/28 [==============================] - 1s 42ms/step - loss: 8.2894e-05 - mean_absolute_error: 0.0063 - val_loss: 9.8034e-04 - val_mean_absolute_error: 0.0239\n",
      "Epoch 83/100\n",
      "28/28 [==============================] - 1s 42ms/step - loss: 8.4830e-05 - mean_absolute_error: 0.0061 - val_loss: 6.2845e-04 - val_mean_absolute_error: 0.0186\n",
      "Epoch 84/100\n",
      "28/28 [==============================] - 1s 42ms/step - loss: 8.2249e-05 - mean_absolute_error: 0.0061 - val_loss: 3.9013e-04 - val_mean_absolute_error: 0.0148\n",
      "Epoch 85/100\n",
      "28/28 [==============================] - 1s 42ms/step - loss: 8.4184e-05 - mean_absolute_error: 0.0060 - val_loss: 0.0012 - val_mean_absolute_error: 0.0269\n",
      "Epoch 86/100\n",
      "28/28 [==============================] - 1s 43ms/step - loss: 8.1622e-05 - mean_absolute_error: 0.0060 - val_loss: 6.8966e-04 - val_mean_absolute_error: 0.0191\n",
      "Epoch 87/100\n",
      "28/28 [==============================] - 1s 42ms/step - loss: 8.0796e-05 - mean_absolute_error: 0.0061 - val_loss: 8.6022e-04 - val_mean_absolute_error: 0.0223\n",
      "Epoch 88/100\n",
      "28/28 [==============================] - 1s 42ms/step - loss: 7.6641e-05 - mean_absolute_error: 0.0058 - val_loss: 5.6937e-04 - val_mean_absolute_error: 0.0171\n",
      "Epoch 89/100\n",
      "28/28 [==============================] - 1s 42ms/step - loss: 7.8078e-05 - mean_absolute_error: 0.0059 - val_loss: 0.0017 - val_mean_absolute_error: 0.0341\n",
      "Epoch 90/100\n",
      "28/28 [==============================] - 1s 46ms/step - loss: 8.7534e-05 - mean_absolute_error: 0.0066 - val_loss: 0.0024 - val_mean_absolute_error: 0.0413\n",
      "Epoch 91/100\n",
      "28/28 [==============================] - 1s 45ms/step - loss: 8.7316e-05 - mean_absolute_error: 0.0064 - val_loss: 4.2789e-04 - val_mean_absolute_error: 0.0148\n",
      "Epoch 92/100\n",
      "28/28 [==============================] - 1s 46ms/step - loss: 7.5143e-05 - mean_absolute_error: 0.0057 - val_loss: 6.4245e-04 - val_mean_absolute_error: 0.0181\n",
      "Epoch 93/100\n",
      "28/28 [==============================] - 1s 44ms/step - loss: 7.6385e-05 - mean_absolute_error: 0.0058 - val_loss: 9.0823e-04 - val_mean_absolute_error: 0.0226\n",
      "Epoch 94/100\n",
      "28/28 [==============================] - 1s 43ms/step - loss: 8.6146e-05 - mean_absolute_error: 0.0065 - val_loss: 5.1014e-04 - val_mean_absolute_error: 0.0160\n",
      "Epoch 95/100\n",
      "28/28 [==============================] - 1s 44ms/step - loss: 8.2115e-05 - mean_absolute_error: 0.0061 - val_loss: 7.6567e-04 - val_mean_absolute_error: 0.0202\n",
      "Epoch 96/100\n",
      "28/28 [==============================] - 1s 45ms/step - loss: 8.0518e-05 - mean_absolute_error: 0.0060 - val_loss: 0.0011 - val_mean_absolute_error: 0.0258\n"
     ]
    },
    {
     "name": "stdout",
     "output_type": "stream",
     "text": [
      "Epoch 97/100\n",
      "28/28 [==============================] - 1s 47ms/step - loss: 9.1483e-05 - mean_absolute_error: 0.0067 - val_loss: 8.1894e-04 - val_mean_absolute_error: 0.0209\n",
      "Epoch 98/100\n",
      "28/28 [==============================] - 1s 50ms/step - loss: 8.0136e-05 - mean_absolute_error: 0.0060 - val_loss: 0.0012 - val_mean_absolute_error: 0.0265\n",
      "Epoch 99/100\n",
      "28/28 [==============================] - 1s 48ms/step - loss: 7.2059e-05 - mean_absolute_error: 0.0056 - val_loss: 9.9226e-04 - val_mean_absolute_error: 0.0235\n",
      "Epoch 100/100\n",
      "28/28 [==============================] - 1s 49ms/step - loss: 8.6508e-05 - mean_absolute_error: 0.0063 - val_loss: 0.0014 - val_mean_absolute_error: 0.0285\n"
     ]
    },
    {
     "data": {
      "text/plain": [
       "<keras.src.callbacks.History at 0x1dace4894f0>"
      ]
     },
     "execution_count": 16,
     "metadata": {},
     "output_type": "execute_result"
    }
   ],
   "source": [
    "# fitting the model by iterating the dataset over 100 times(100 epochs)\n",
    "model.fit(train_seq, train_label, epochs=100,validation_data=(test_seq, test_label), verbose=1)"
   ]
  },
  {
   "cell_type": "code",
   "execution_count": 17,
   "id": "aa82068b",
   "metadata": {},
   "outputs": [
    {
     "name": "stdout",
     "output_type": "stream",
     "text": [
      "9/9 [==============================] - 2s 16ms/step\n"
     ]
    },
    {
     "data": {
      "text/plain": [
       "array([[0.4042854 , 0.40376735],\n",
       "       [0.4023951 , 0.40196466],\n",
       "       [0.40013307, 0.39975297],\n",
       "       [0.40780336, 0.4071796 ],\n",
       "       [0.40826446, 0.40770763]], dtype=float32)"
      ]
     },
     "execution_count": 17,
     "metadata": {},
     "output_type": "execute_result"
    }
   ],
   "source": [
    "# predicting the values after running the model\n",
    "test_predicted = model.predict(test_seq)\n",
    "test_predicted[:5]"
   ]
  },
  {
   "cell_type": "code",
   "execution_count": 18,
   "id": "f73bd282",
   "metadata": {},
   "outputs": [
    {
     "data": {
      "text/plain": [
       "array([[1420.5127, 1416.5782],\n",
       "       [1417.0083, 1413.2372],\n",
       "       [1412.8147, 1409.1382],\n",
       "       [1427.0348, 1422.9022],\n",
       "       [1427.8896, 1423.8809]], dtype=float32)"
      ]
     },
     "execution_count": 18,
     "metadata": {},
     "output_type": "execute_result"
    }
   ],
   "source": [
    "# Inversing normalization/scaling on predicted data \n",
    "test_inverse_predicted = MMS.inverse_transform(test_predicted)\n",
    "test_inverse_predicted[:5]"
   ]
  },
  {
   "cell_type": "markdown",
   "id": "969a7ce1",
   "metadata": {},
   "source": [
    "## STEP 5 : VISUALIZING ACTUAL VS PREDICTED DATA"
   ]
  },
  {
   "cell_type": "code",
   "execution_count": 19,
   "id": "e7ad8639",
   "metadata": {},
   "outputs": [],
   "source": [
    "# Merging actual and predicted data for better visualization\n",
    "df_merge = pd.concat([df.iloc[-264:].copy(),\n",
    "                          pd.DataFrame(test_inverse_predicted,columns=['open_predicted','close_predicted'],\n",
    "                                       index=df.iloc[-264:].index)], axis=1)"
   ]
  },
  {
   "cell_type": "code",
   "execution_count": 20,
   "id": "7b04ad27",
   "metadata": {},
   "outputs": [
    {
     "data": {
      "text/html": [
       "<div>\n",
       "<style scoped>\n",
       "    .dataframe tbody tr th:only-of-type {\n",
       "        vertical-align: middle;\n",
       "    }\n",
       "\n",
       "    .dataframe tbody tr th {\n",
       "        vertical-align: top;\n",
       "    }\n",
       "\n",
       "    .dataframe thead th {\n",
       "        text-align: right;\n",
       "    }\n",
       "</style>\n",
       "<table border=\"1\" class=\"dataframe\">\n",
       "  <thead>\n",
       "    <tr style=\"text-align: right;\">\n",
       "      <th></th>\n",
       "      <th>open</th>\n",
       "      <th>close</th>\n",
       "      <th>open_predicted</th>\n",
       "      <th>close_predicted</th>\n",
       "    </tr>\n",
       "    <tr>\n",
       "      <th>date</th>\n",
       "      <th></th>\n",
       "      <th></th>\n",
       "      <th></th>\n",
       "      <th></th>\n",
       "    </tr>\n",
       "  </thead>\n",
       "  <tbody>\n",
       "    <tr>\n",
       "      <th>2020-05-27</th>\n",
       "      <td>1417.25</td>\n",
       "      <td>1417.84</td>\n",
       "      <td>1420.512695</td>\n",
       "      <td>1416.578247</td>\n",
       "    </tr>\n",
       "    <tr>\n",
       "      <th>2020-05-28</th>\n",
       "      <td>1396.86</td>\n",
       "      <td>1416.73</td>\n",
       "      <td>1417.008301</td>\n",
       "      <td>1413.237183</td>\n",
       "    </tr>\n",
       "    <tr>\n",
       "      <th>2020-05-29</th>\n",
       "      <td>1416.94</td>\n",
       "      <td>1428.92</td>\n",
       "      <td>1412.814697</td>\n",
       "      <td>1409.138184</td>\n",
       "    </tr>\n",
       "    <tr>\n",
       "      <th>2020-06-01</th>\n",
       "      <td>1418.39</td>\n",
       "      <td>1431.82</td>\n",
       "      <td>1427.034790</td>\n",
       "      <td>1422.902222</td>\n",
       "    </tr>\n",
       "    <tr>\n",
       "      <th>2020-06-02</th>\n",
       "      <td>1430.55</td>\n",
       "      <td>1439.22</td>\n",
       "      <td>1427.889648</td>\n",
       "      <td>1423.880859</td>\n",
       "    </tr>\n",
       "  </tbody>\n",
       "</table>\n",
       "</div>"
      ],
      "text/plain": [
       "               open    close  open_predicted  close_predicted\n",
       "date                                                         \n",
       "2020-05-27  1417.25  1417.84     1420.512695      1416.578247\n",
       "2020-05-28  1396.86  1416.73     1417.008301      1413.237183\n",
       "2020-05-29  1416.94  1428.92     1412.814697      1409.138184\n",
       "2020-06-01  1418.39  1431.82     1427.034790      1422.902222\n",
       "2020-06-02  1430.55  1439.22     1427.889648      1423.880859"
      ]
     },
     "execution_count": 20,
     "metadata": {},
     "output_type": "execute_result"
    }
   ],
   "source": [
    "# Inversing normalization/scaling \n",
    "df_merge[['open','close']] = MMS.inverse_transform(df_merge[['open','close']])\n",
    "df_merge.head()"
   ]
  },
  {
   "cell_type": "code",
   "execution_count": 21,
   "id": "5f98a464",
   "metadata": {},
   "outputs": [
    {
     "data": {
      "image/png": "[encoded data removed]",
      "text/plain": [
       "<Figure size 720x432 with 1 Axes>"
      ]
     },
     "metadata": {
      "needs_background": "light"
     },
     "output_type": "display_data"
    }
   ],
   "source": [
    "# plotting the actual open and predicted open prices on date index\n",
    "df_merge[['open','open_predicted']].plot(figsize=(10,6))\n",
    "plt.xticks(rotation=45)\n",
    "plt.xlabel('Date',size=15)\n",
    "plt.ylabel('Stock Price',size=15)\n",
    "plt.title('Actual vs Predicted for open price',size=15)\n",
    "plt.show()\n"
   ]
  },
  {
   "cell_type": "code",
   "execution_count": 22,
   "id": "4660c2db",
   "metadata": {},
   "outputs": [
    {
     "data": {
      "image/png": "[encoded data removed]",
      "text/plain": [
       "<Figure size 720x432 with 1 Axes>"
      ]
     },
     "metadata": {
      "needs_background": "light"
     },
     "output_type": "display_data"
    }
   ],
   "source": [
    "# plotting the actual close and predicted close prices on date index \n",
    "df_merge[['close','close_predicted']].plot(figsize=(10,6))\n",
    "plt.xticks(rotation=45)\n",
    "plt.xlabel('Date',size=15)\n",
    "plt.ylabel('Stock Price',size=15)\n",
    "plt.title('Actual vs Predicted for close price',size=15)\n",
    "plt.show()\n"
   ]
  },
  {
   "cell_type": "markdown",
   "id": "fa796a9b",
   "metadata": {},
   "source": [
    "## STEP 6. PREDICTING UPCOMING 10 DAYS"
   ]
  },
  {
   "cell_type": "code",
   "execution_count": 23,
   "id": "7ea7d25e",
   "metadata": {},
   "outputs": [
    {
     "data": {
      "text/html": [
       "<div>\n",
       "<style scoped>\n",
       "    .dataframe tbody tr th:only-of-type {\n",
       "        vertical-align: middle;\n",
       "    }\n",
       "\n",
       "    .dataframe tbody tr th {\n",
       "        vertical-align: top;\n",
       "    }\n",
       "\n",
       "    .dataframe thead th {\n",
       "        text-align: right;\n",
       "    }\n",
       "</style>\n",
       "<table border=\"1\" class=\"dataframe\">\n",
       "  <thead>\n",
       "    <tr style=\"text-align: right;\">\n",
       "      <th></th>\n",
       "      <th>open</th>\n",
       "      <th>close</th>\n",
       "      <th>open_predicted</th>\n",
       "      <th>close_predicted</th>\n",
       "    </tr>\n",
       "  </thead>\n",
       "  <tbody>\n",
       "    <tr>\n",
       "      <th>2021-06-09</th>\n",
       "      <td>2499.5</td>\n",
       "      <td>2491.4</td>\n",
       "      <td>2383.751465</td>\n",
       "      <td>2349.25708</td>\n",
       "    </tr>\n",
       "    <tr>\n",
       "      <th>2021-06-10</th>\n",
       "      <td>2494.01</td>\n",
       "      <td>2521.6</td>\n",
       "      <td>2372.625732</td>\n",
       "      <td>2337.964355</td>\n",
       "    </tr>\n",
       "    <tr>\n",
       "      <th>2021-06-11</th>\n",
       "      <td>2524.92</td>\n",
       "      <td>2513.93</td>\n",
       "      <td>2413.677246</td>\n",
       "      <td>2377.880859</td>\n",
       "    </tr>\n",
       "    <tr>\n",
       "      <th>2021-06-12</th>\n",
       "      <td>NaN</td>\n",
       "      <td>NaN</td>\n",
       "      <td>NaN</td>\n",
       "      <td>NaN</td>\n",
       "    </tr>\n",
       "    <tr>\n",
       "      <th>2021-06-13</th>\n",
       "      <td>NaN</td>\n",
       "      <td>NaN</td>\n",
       "      <td>NaN</td>\n",
       "      <td>NaN</td>\n",
       "    </tr>\n",
       "    <tr>\n",
       "      <th>2021-06-14</th>\n",
       "      <td>NaN</td>\n",
       "      <td>NaN</td>\n",
       "      <td>NaN</td>\n",
       "      <td>NaN</td>\n",
       "    </tr>\n",
       "    <tr>\n",
       "      <th>2021-06-15</th>\n",
       "      <td>NaN</td>\n",
       "      <td>NaN</td>\n",
       "      <td>NaN</td>\n",
       "      <td>NaN</td>\n",
       "    </tr>\n",
       "    <tr>\n",
       "      <th>2021-06-16</th>\n",
       "      <td>NaN</td>\n",
       "      <td>NaN</td>\n",
       "      <td>NaN</td>\n",
       "      <td>NaN</td>\n",
       "    </tr>\n",
       "  </tbody>\n",
       "</table>\n",
       "</div>"
      ],
      "text/plain": [
       "               open    close open_predicted close_predicted\n",
       "2021-06-09   2499.5   2491.4    2383.751465      2349.25708\n",
       "2021-06-10  2494.01   2521.6    2372.625732     2337.964355\n",
       "2021-06-11  2524.92  2513.93    2413.677246     2377.880859\n",
       "2021-06-12      NaN      NaN            NaN             NaN\n",
       "2021-06-13      NaN      NaN            NaN             NaN\n",
       "2021-06-14      NaN      NaN            NaN             NaN\n",
       "2021-06-15      NaN      NaN            NaN             NaN\n",
       "2021-06-16      NaN      NaN            NaN             NaN"
      ]
     },
     "execution_count": 23,
     "metadata": {},
     "output_type": "execute_result"
    }
   ],
   "source": [
    "# Creating a dataframe and adding 10 days to existing index \n",
    "\n",
    "df_merge = df_merge.append(pd.DataFrame(columns=df_merge.columns,\n",
    "                                        index=pd.date_range(start=df_merge.index[-1], periods=11, freq='D', closed='right')))\n",
    "df_merge['2021-06-09':'2021-06-16']"
   ]
  },
  {
   "cell_type": "code",
   "execution_count": 24,
   "id": "015aa683",
   "metadata": {},
   "outputs": [],
   "source": [
    "# creating a DataFrame and filling values of open and close column\n",
    "upcoming_prediction = pd.DataFrame(columns=['open','close'],index=df_merge.index)\n",
    "upcoming_prediction.index=pd.to_datetime(upcoming_prediction.index)"
   ]
  },
  {
   "cell_type": "code",
   "execution_count": 25,
   "id": "465c4042",
   "metadata": {},
   "outputs": [
    {
     "name": "stdout",
     "output_type": "stream",
     "text": [
      "1/1 [==============================] - 0s 37ms/step\n",
      "1/1 [==============================] - 0s 52ms/step\n",
      "1/1 [==============================] - 0s 39ms/step\n",
      "1/1 [==============================] - 0s 38ms/step\n",
      "1/1 [==============================] - 0s 36ms/step\n",
      "1/1 [==============================] - 0s 37ms/step\n",
      "1/1 [==============================] - 0s 39ms/step\n",
      "1/1 [==============================] - 0s 44ms/step\n",
      "1/1 [==============================] - 0s 50ms/step\n",
      "1/1 [==============================] - 0s 42ms/step\n"
     ]
    }
   ],
   "source": [
    "curr_seq = test_seq[-1:]\n",
    "\n",
    "for i in range(-10,0):\n",
    "  up_pred = model.predict(curr_seq)\n",
    "  upcoming_prediction.iloc[i] = up_pred\n",
    "  curr_seq = np.append(curr_seq[0][1:],up_pred,axis=0)\n",
    "  curr_seq = curr_seq.reshape(test_seq[-1:].shape)"
   ]
  },
  {
   "cell_type": "code",
   "execution_count": 26,
   "id": "642df216",
   "metadata": {},
   "outputs": [],
   "source": [
    "# inversing Normalization/scaling\n",
    "upcoming_prediction[['open','close']] = MMS.inverse_transform(upcoming_prediction[['open','close']])"
   ]
  },
  {
   "cell_type": "code",
   "execution_count": 27,
   "id": "e4c04d7c",
   "metadata": {},
   "outputs": [
    {
     "data": {
      "image/png": "[encoded data removed]",
      "text/plain": [
       "<Figure size 720x360 with 1 Axes>"
      ]
     },
     "metadata": {
      "needs_background": "light"
     },
     "output_type": "display_data"
    }
   ],
   "source": [
    "# plotting Upcoming Open price on date index\n",
    "fig,ax=plt.subplots(figsize=(10,5))\n",
    "ax.plot(df_merge.loc['2021-04-01':,'open'],label='Current Open Price')\n",
    "ax.plot(upcoming_prediction.loc['2021-04-01':,'open'],label='Upcoming Open Price')\n",
    "plt.setp(ax.xaxis.get_majorticklabels(), rotation=45)\n",
    "ax.set_xlabel('Date',size=15)\n",
    "ax.set_ylabel('Stock Price',size=15)\n",
    "ax.set_title('Upcoming Open price prediction',size=15)\n",
    "ax.legend()\n",
    "fig.show()\n"
   ]
  },
  {
   "cell_type": "code",
   "execution_count": 28,
   "id": "03b935f2",
   "metadata": {},
   "outputs": [
    {
     "data": {
      "image/png": "[encoded data removed]",
      "text/plain": [
       "<Figure size 720x360 with 1 Axes>"
      ]
     },
     "metadata": {
      "needs_background": "light"
     },
     "output_type": "display_data"
    }
   ],
   "source": [
    "# plotting Upcoming Close price on date index\n",
    "fig,ax=plt.subplots(figsize=(10,5))\n",
    "ax.plot(df_merge.loc['2021-04-01':,'close'],label='Current close Price')\n",
    "ax.plot(upcoming_prediction.loc['2021-04-01':,'close'],label='Upcoming close Price')\n",
    "plt.setp(ax.xaxis.get_majorticklabels(), rotation=45)\n",
    "ax.set_xlabel('Date',size=15)\n",
    "ax.set_ylabel('Stock Price',size=15)\n",
    "ax.set_title('Upcoming close price prediction',size=15)\n",
    "ax.legend()\n",
    "fig.show()\n"
   ]
  },
  {
   "cell_type": "markdown",
   "id": "45da9fab",
   "metadata": {},
   "source": [
    "# THANK YOU"
   ]
  },
  {
   "cell_type": "code",
   "execution_count": null,
   "id": "3f717f30",
   "metadata": {},
   "outputs": [],
   "source": []
  }
 ],
 "metadata": {
  "kernelspec": {
   "display_name": "Python 3 (ipykernel)",
   "language": "python",
   "name": "python3"
  },
  "language_info": {
   "codemirror_mode": {
    "name": "ipython",
    "version": 3
   },
   "file_extension": ".py",
   "mimetype": "text/x-python",
   "name": "python",
   "nbconvert_exporter": "python",
   "pygments_lexer": "ipython3",
   "version": "3.9.12"
  }
 },
 "nbformat": 4,
 "nbformat_minor": 5
}
